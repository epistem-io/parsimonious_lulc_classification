{
 "cells": [
  {
   "cell_type": "markdown",
   "id": "538f5001",
   "metadata": {},
   "source": [
    "## Covariates Generation Testing"
   ]
  },
  {
   "cell_type": "code",
   "execution_count": 1,
   "id": "706da7ff",
   "metadata": {},
   "outputs": [
    {
     "name": "stdout",
     "output_type": "stream",
     "text": [
      "Number of images in collection:  13\n",
      "Multi-temporal speckle filtering is completed\n",
      "Radiometric terrain normalization is completed\n"
     ]
    }
   ],
   "source": [
    "# import the library\n",
    "import ee\n",
    "import geemap\n",
    "from geemap import ee_export_image_collection_to_drive\n",
    "import numpy as np\n",
    "import matplotlib as plt\n",
    "import pandas as pd\n",
    "import matplotlib.pyplot as plt\n",
    "from optical_cov import get_aoi_from_gaul,  get_optical_data, get_temporal_composite, apply_brdf, terrain_correction, cal_indices\n",
    "from radar_cov import get_palsar_data, radar_annual_comp, get_s1_data, s1_seasonal_composite\n",
    "import anci_cov\n",
    "# Initialize Earth Engine\n",
    "ee.Authenticate()\n",
    "ee.Initialize()"
   ]
  },
  {
   "cell_type": "markdown",
   "id": "76451ad0",
   "metadata": {},
   "source": [
    "This message:\n",
    "Number of images in collection:  13\n",
    "Multi-temporal speckle filtering is completed\n",
    "Radiometric terrain normalization is completed\n",
    "came from the S1-ard functions, not yet resolve"
   ]
  },
  {
   "cell_type": "markdown",
   "id": "0def87f2",
   "metadata": {},
   "source": [
    "## Select and Visualize the AOI"
   ]
  },
  {
   "cell_type": "code",
   "execution_count": 2,
   "id": "ef29781b",
   "metadata": {},
   "outputs": [
    {
     "data": {
      "text/html": [
       "\n",
       "            <style>\n",
       "                .geemap-dark {\n",
       "                    --jp-widgets-color: white;\n",
       "                    --jp-widgets-label-color: white;\n",
       "                    --jp-ui-font-color1: white;\n",
       "                    --jp-layout-color2: #454545;\n",
       "                    background-color: #383838;\n",
       "                }\n",
       "\n",
       "                .geemap-dark .jupyter-button {\n",
       "                    --jp-layout-color3: #383838;\n",
       "                }\n",
       "\n",
       "                .geemap-colab {\n",
       "                    background-color: var(--colab-primary-surface-color, white);\n",
       "                }\n",
       "\n",
       "                .geemap-colab .jupyter-button {\n",
       "                    --jp-layout-color3: var(--colab-primary-surface-color, white);\n",
       "                }\n",
       "            </style>\n",
       "            "
      ],
      "text/plain": [
       "<IPython.core.display.HTML object>"
      ]
     },
     "metadata": {},
     "output_type": "display_data"
    },
    {
     "data": {
      "application/vnd.jupyter.widget-view+json": {
       "model_id": "0defbe94d3a94ea7a26d6dc4ed11190e",
       "version_major": 2,
       "version_minor": 0
      },
      "text/plain": [
       "Map(center=[-3.2210694545062024, 104.16355582426586], controls=(WidgetControl(options=['position', 'transparen…"
      ]
     },
     "execution_count": 2,
     "metadata": {},
     "output_type": "execute_result"
    }
   ],
   "source": [
    "# --- Area of Interest (AOI) ---\n",
    "# Set the country and province for the AOI using GAUL admin boundaries\n",
    "COUNTRY = \"Indonesia\"\n",
    "PROVINCE = \"Sumatera Selatan\"\n",
    "aoi = get_aoi_from_gaul(country=COUNTRY, province=PROVINCE)\n",
    "# Visualise the AOI\n",
    "Map = geemap.Map() \n",
    "Map.addLayer(aoi, \n",
    "            {'color': 'red', 'fillColor': '00000000'}, \n",
    "            'Area of Interest (AOI)',)\n",
    "# Visualize AOI\n",
    "Map.centerObject(aoi, 8)\n",
    "Map"
   ]
  },
  {
   "cell_type": "markdown",
   "id": "dfefce80",
   "metadata": {},
   "source": [
    "## Optical Remote Sensing Data Retrival"
   ]
  },
  {
   "cell_type": "code",
   "execution_count": 11,
   "id": "d49648ee",
   "metadata": {},
   "outputs": [
    {
     "data": {
      "text/html": [
       "\n",
       "            <style>\n",
       "                .geemap-dark {\n",
       "                    --jp-widgets-color: white;\n",
       "                    --jp-widgets-label-color: white;\n",
       "                    --jp-ui-font-color1: white;\n",
       "                    --jp-layout-color2: #454545;\n",
       "                    background-color: #383838;\n",
       "                }\n",
       "\n",
       "                .geemap-dark .jupyter-button {\n",
       "                    --jp-layout-color3: #383838;\n",
       "                }\n",
       "\n",
       "                .geemap-colab {\n",
       "                    background-color: var(--colab-primary-surface-color, white);\n",
       "                }\n",
       "\n",
       "                .geemap-colab .jupyter-button {\n",
       "                    --jp-layout-color3: var(--colab-primary-surface-color, white);\n",
       "                }\n",
       "            </style>\n",
       "            "
      ],
      "text/plain": [
       "<IPython.core.display.HTML object>"
      ]
     },
     "metadata": {},
     "output_type": "display_data"
    },
    {
     "data": {
      "application/vnd.jupyter.widget-view+json": {
       "model_id": "186d3cc6093a4442b3a3216d11d16f40",
       "version_major": 2,
       "version_minor": 0
      },
      "text/plain": [
       "Map(center=[-3.2210694545062024, 104.16355582426586], controls=(WidgetControl(options=['position', 'transparen…"
      ]
     },
     "execution_count": 11,
     "metadata": {},
     "output_type": "execute_result"
    }
   ],
   "source": [
    "#optical data type as follows:\n",
    "#L8_TOA: Landsat 8 Collection 2 Top of Atmosphere \n",
    "#L8_SR: Landsat 8 Collection 2 Surface Reflectance\n",
    "#S2_TOA: Sentinel-2 L1C Top of Atmosphere\n",
    "#S2_SR: Sentienl-2 L2A Surface Reflectance\n",
    "start = '2017-01-01'\n",
    "end = '2018-01-01'\n",
    "l8_toa = get_optical_data(aoi, start_date=start, end_date=end, cloud_cover=40,\n",
    "                          optical_data='L8_TOA')\n",
    "l8_sr = get_optical_data(aoi, start_date=start, end_date=end,\n",
    "                          optical_data='L8_SR')\n",
    "l8_toa_visparam = {\n",
    "    min: 0,\n",
    "    max: 0.5,\n",
    "    'bands':['red', 'green', 'blue']\n",
    "}\n",
    "l8_sr_visparam = {\n",
    "    min: 0,\n",
    "    max: 0.3,\n",
    "    'bands':['red', 'green', 'blue']\n",
    "}\n",
    "# Adding Basemap\n",
    "m = geemap.Map()\n",
    "# set center of the map in the area of interest\n",
    "m.centerObject(aoi, 7)\n",
    "# adding the data\n",
    "m.addLayer(l8_toa, l8_toa_visparam, 'Landsat 8 TOA')\n",
    "m.addLayer(l8_sr, l8_sr_visparam, 'Landsat 8 SR')\n",
    "m\n"
   ]
  },
  {
   "cell_type": "markdown",
   "id": "9c54e050",
   "metadata": {},
   "source": [
    "## BDRF and Topographic Correction "
   ]
  },
  {
   "cell_type": "code",
   "execution_count": 5,
   "id": "62688867",
   "metadata": {},
   "outputs": [
    {
     "data": {
      "text/html": [
       "\n",
       "            <style>\n",
       "                .geemap-dark {\n",
       "                    --jp-widgets-color: white;\n",
       "                    --jp-widgets-label-color: white;\n",
       "                    --jp-ui-font-color1: white;\n",
       "                    --jp-layout-color2: #454545;\n",
       "                    background-color: #383838;\n",
       "                }\n",
       "\n",
       "                .geemap-dark .jupyter-button {\n",
       "                    --jp-layout-color3: #383838;\n",
       "                }\n",
       "\n",
       "                .geemap-colab {\n",
       "                    background-color: var(--colab-primary-surface-color, white);\n",
       "                }\n",
       "\n",
       "                .geemap-colab .jupyter-button {\n",
       "                    --jp-layout-color3: var(--colab-primary-surface-color, white);\n",
       "                }\n",
       "            </style>\n",
       "            "
      ],
      "text/plain": [
       "<IPython.core.display.HTML object>"
      ]
     },
     "metadata": {},
     "output_type": "display_data"
    },
    {
     "name": "stdout",
     "output_type": "stream",
     "text": [
      "['blue', 'green', 'red', 'nir', 'swir1', 'swir2']\n",
      "None\n"
     ]
    },
    {
     "data": {
      "application/vnd.jupyter.widget-view+json": {
       "model_id": "a750bbe6936d44e6809ed353e2107458",
       "version_major": 2,
       "version_minor": 0
      },
      "text/plain": [
       "Map(bottom=16986.0, center=[-3.3182087091819388, 104.34041214314226], controls=(WidgetControl(options=['positi…"
      ]
     },
     "execution_count": 5,
     "metadata": {},
     "output_type": "execute_result"
    }
   ],
   "source": [
    "#BRDF Correction\n",
    "bdrf_toa= l8_toa.map(apply_brdf)\n",
    "m.addLayer(bdrf_toa, l8_sr_visparam, 'Landsat 8 TOA_BRDF')\n",
    "print(print(bdrf_toa.first().bandNames().getInfo()))\n",
    "#Terrain Correction\n",
    "bdrf_terrain_cor = terrain_correction(bdrf_toa)\n",
    "m.addLayer(bdrf_terrain_cor, l8_sr_visparam, 'Landsat 8 TOA_BRDF_Topo')\n",
    "m\n",
    "#The result is not yet compared. Visual representation have minimal difference"
   ]
  },
  {
   "cell_type": "markdown",
   "id": "40538c45",
   "metadata": {},
   "source": [
    "## Temporal Composite"
   ]
  },
  {
   "cell_type": "code",
   "execution_count": 13,
   "id": "a8ee980b",
   "metadata": {},
   "outputs": [
    {
     "data": {
      "text/html": [
       "\n",
       "            <style>\n",
       "                .geemap-dark {\n",
       "                    --jp-widgets-color: white;\n",
       "                    --jp-widgets-label-color: white;\n",
       "                    --jp-ui-font-color1: white;\n",
       "                    --jp-layout-color2: #454545;\n",
       "                    background-color: #383838;\n",
       "                }\n",
       "\n",
       "                .geemap-dark .jupyter-button {\n",
       "                    --jp-layout-color3: #383838;\n",
       "                }\n",
       "\n",
       "                .geemap-colab {\n",
       "                    background-color: var(--colab-primary-surface-color, white);\n",
       "                }\n",
       "\n",
       "                .geemap-colab .jupyter-button {\n",
       "                    --jp-layout-color3: var(--colab-primary-surface-color, white);\n",
       "                }\n",
       "            </style>\n",
       "            "
      ],
      "text/plain": [
       "<IPython.core.display.HTML object>"
      ]
     },
     "metadata": {},
     "output_type": "display_data"
    },
    {
     "data": {
      "application/vnd.jupyter.widget-view+json": {
       "model_id": "186d3cc6093a4442b3a3216d11d16f40",
       "version_major": 2,
       "version_minor": 0
      },
      "text/plain": [
       "Map(bottom=16977.0, center=[-3.2210694545062024, 104.16355582426586], controls=(WidgetControl(options=['positi…"
      ]
     },
     "execution_count": 13,
     "metadata": {},
     "output_type": "execute_result"
    }
   ],
   "source": [
    "#Example for median composite\n",
    "l8_corrected_median = get_temporal_composite(bdrf_terrain_cor, method='median', aoi=aoi)\n",
    "#Example for 25th percentile\n",
    "l8_corrected_p25 = get_temporal_composite(bdrf_terrain_cor, method= 'Percentile', aoi = aoi, percentile_value=25)\n",
    "m.addLayer(l8_corrected_median, l8_toa_visparam, 'Landsat Median Composite')\n",
    "m.addLayer(l8_corrected_p25,     \n",
    "           {min: 0,max: 0.3,\n",
    "           'bands':['red_p25', 'green_p25', 'blue_p25']}, '25th Percentile L8 TOA')\n",
    "#Note: Restore+ framework applied different reducer for different bands, not yet implemented here\n",
    "m"
   ]
  },
  {
   "cell_type": "markdown",
   "id": "2878b593",
   "metadata": {},
   "source": [
    "## Spectral Transformation"
   ]
  },
  {
   "cell_type": "code",
   "execution_count": 16,
   "id": "6e8c6a6f",
   "metadata": {},
   "outputs": [
    {
     "data": {
      "text/html": [
       "\n",
       "            <style>\n",
       "                .geemap-dark {\n",
       "                    --jp-widgets-color: white;\n",
       "                    --jp-widgets-label-color: white;\n",
       "                    --jp-ui-font-color1: white;\n",
       "                    --jp-layout-color2: #454545;\n",
       "                    background-color: #383838;\n",
       "                }\n",
       "\n",
       "                .geemap-dark .jupyter-button {\n",
       "                    --jp-layout-color3: #383838;\n",
       "                }\n",
       "\n",
       "                .geemap-colab {\n",
       "                    background-color: var(--colab-primary-surface-color, white);\n",
       "                }\n",
       "\n",
       "                .geemap-colab .jupyter-button {\n",
       "                    --jp-layout-color3: var(--colab-primary-surface-color, white);\n",
       "                }\n",
       "            </style>\n",
       "            "
      ],
      "text/plain": [
       "<IPython.core.display.HTML object>"
      ]
     },
     "metadata": {},
     "output_type": "display_data"
    },
    {
     "data": {
      "application/vnd.jupyter.widget-view+json": {
       "model_id": "186d3cc6093a4442b3a3216d11d16f40",
       "version_major": 2,
       "version_minor": 0
      },
      "text/plain": [
       "Map(bottom=16977.0, center=[-3.2173020581871374, 104.16137695312501], controls=(WidgetControl(options=['positi…"
      ]
     },
     "execution_count": 16,
     "metadata": {},
     "output_type": "execute_result"
    }
   ],
   "source": [
    "#calculate all indices\n",
    "l8_indices =bdrf_terrain_cor.map(cal_indices)\n",
    "#Select NDVI\n",
    "ndvi = l8_indices.select('NDVI')\n",
    "m.addLayer(ndvi, {min: 0, max: 1, 'palette': ['red', 'yellow', 'green']}, 'NDVI_Corrected')\n",
    "m"
   ]
  },
  {
   "cell_type": "markdown",
   "id": "66061b16",
   "metadata": {},
   "source": [
    "## Get Radar Remote Sensing Data\n",
    "### ALOS PALSAR ScanSAR 2"
   ]
  },
  {
   "cell_type": "code",
   "execution_count": 20,
   "id": "c35dfbb5",
   "metadata": {},
   "outputs": [
    {
     "data": {
      "text/html": [
       "\n",
       "            <style>\n",
       "                .geemap-dark {\n",
       "                    --jp-widgets-color: white;\n",
       "                    --jp-widgets-label-color: white;\n",
       "                    --jp-ui-font-color1: white;\n",
       "                    --jp-layout-color2: #454545;\n",
       "                    background-color: #383838;\n",
       "                }\n",
       "\n",
       "                .geemap-dark .jupyter-button {\n",
       "                    --jp-layout-color3: #383838;\n",
       "                }\n",
       "\n",
       "                .geemap-colab {\n",
       "                    background-color: var(--colab-primary-surface-color, white);\n",
       "                }\n",
       "\n",
       "                .geemap-colab .jupyter-button {\n",
       "                    --jp-layout-color3: var(--colab-primary-surface-color, white);\n",
       "                }\n",
       "            </style>\n",
       "            "
      ],
      "text/plain": [
       "<IPython.core.display.HTML object>"
      ]
     },
     "metadata": {},
     "output_type": "display_data"
    },
    {
     "data": {
      "application/vnd.jupyter.widget-view+json": {
       "model_id": "d8873f735e834b71bb9c43785d0c5905",
       "version_major": 2,
       "version_minor": 0
      },
      "text/plain": [
       "Map(center=[-3.2210694545062024, 104.16355582426586], controls=(WidgetControl(options=['position', 'transparen…"
      ]
     },
     "execution_count": 20,
     "metadata": {},
     "output_type": "execute_result"
    }
   ],
   "source": [
    "#ALOS PALSAR 2017 (output in backscatter coefficient gamma nought)\n",
    "palsar_2017 = get_palsar_data(aoi, start_date =start, end_date = end, polarizations=['HH'])\n",
    "#Radar Annual Composite\n",
    "median_palsar = radar_annual_comp(aoi, palsar_2017, reducer='median')\n",
    "map = geemap.Map()\n",
    "map.centerObject(aoi, 7)\n",
    "map.addLayer(palsar_2017.select(['HH']), {}, 'HH polarization')\n",
    "map.addLayer(median_palsar.clip(aoi), {}, 'Median HH polarization')\n",
    "map"
   ]
  },
  {
   "cell_type": "markdown",
   "id": "a0d75c96",
   "metadata": {},
   "source": [
    "### Sentinel-1 GRD"
   ]
  },
  {
   "cell_type": "code",
   "execution_count": 22,
   "id": "0298eb3c",
   "metadata": {},
   "outputs": [
    {
     "data": {
      "text/html": [
       "\n",
       "            <style>\n",
       "                .geemap-dark {\n",
       "                    --jp-widgets-color: white;\n",
       "                    --jp-widgets-label-color: white;\n",
       "                    --jp-ui-font-color1: white;\n",
       "                    --jp-layout-color2: #454545;\n",
       "                    background-color: #383838;\n",
       "                }\n",
       "\n",
       "                .geemap-dark .jupyter-button {\n",
       "                    --jp-layout-color3: #383838;\n",
       "                }\n",
       "\n",
       "                .geemap-colab {\n",
       "                    background-color: var(--colab-primary-surface-color, white);\n",
       "                }\n",
       "\n",
       "                .geemap-colab .jupyter-button {\n",
       "                    --jp-layout-color3: var(--colab-primary-surface-color, white);\n",
       "                }\n",
       "            </style>\n",
       "            "
      ],
      "text/plain": [
       "<IPython.core.display.HTML object>"
      ]
     },
     "metadata": {},
     "output_type": "display_data"
    },
    {
     "name": "stdout",
     "output_type": "stream",
     "text": [
      "Number of images in collection:  216\n",
      "Additional border noise correction is completed\n",
      "Multi-temporal speckle filtering is completed\n",
      "Radiometric terrain normalization is completed\n"
     ]
    },
    {
     "data": {
      "application/vnd.jupyter.widget-view+json": {
       "model_id": "d8873f735e834b71bb9c43785d0c5905",
       "version_major": 2,
       "version_minor": 0
      },
      "text/plain": [
       "Map(bottom=16977.0, center=[-3.2210694545062024, 104.16355582426586], controls=(WidgetControl(options=['positi…"
      ]
     },
     "execution_count": 22,
     "metadata": {},
     "output_type": "execute_result"
    }
   ],
   "source": [
    "#Called the collection and preprocessed them using s1_ard \n",
    "s1_data = get_s1_data(aoi, start, end, clip_to_aoi = True)\n",
    "#Sentinel-1 Annual composite\n",
    "median_s1 = radar_annual_comp(aoi, s1_data, reducer='median')\n",
    "map.addLayer(s1_data, {}, 'Sentinel-1_prep')\n",
    "map.addLayer(median_s1.clip(aoi), {}, 'Median Sentinel-1_prep')\n",
    "map\n",
    "#Note: the result is not yet shown since using public GEE acount resulted in user memory limit"
   ]
  },
  {
   "cell_type": "markdown",
   "id": "d6967768",
   "metadata": {},
   "source": [
    "## Sentinel-1 Seasonal Composite"
   ]
  },
  {
   "cell_type": "code",
   "execution_count": null,
   "id": "fe8bffa5",
   "metadata": {},
   "outputs": [
    {
     "data": {
      "text/html": [
       "\n",
       "            <style>\n",
       "                .geemap-dark {\n",
       "                    --jp-widgets-color: white;\n",
       "                    --jp-widgets-label-color: white;\n",
       "                    --jp-ui-font-color1: white;\n",
       "                    --jp-layout-color2: #454545;\n",
       "                    background-color: #383838;\n",
       "                }\n",
       "\n",
       "                .geemap-dark .jupyter-button {\n",
       "                    --jp-layout-color3: #383838;\n",
       "                }\n",
       "\n",
       "                .geemap-colab {\n",
       "                    background-color: var(--colab-primary-surface-color, white);\n",
       "                }\n",
       "\n",
       "                .geemap-colab .jupyter-button {\n",
       "                    --jp-layout-color3: var(--colab-primary-surface-color, white);\n",
       "                }\n",
       "            </style>\n",
       "            "
      ],
      "text/plain": [
       "<IPython.core.display.HTML object>"
      ]
     },
     "metadata": {},
     "output_type": "display_data"
    },
    {
     "name": "stdout",
     "output_type": "stream",
     "text": [
      "Month 1: Avg Rainfall = 340.97 mm\n",
      "Month 2: Avg Rainfall = 284.20 mm\n",
      "Month 3: Avg Rainfall = 252.61 mm\n",
      "Month 4: Avg Rainfall = 344.80 mm\n",
      "Month 5: Avg Rainfall = 281.12 mm\n",
      "Month 6: Avg Rainfall = 134.33 mm\n",
      "Month 7: Avg Rainfall = 165.57 mm\n",
      "Month 8: Avg Rainfall = 159.70 mm\n",
      "Month 9: Avg Rainfall = 164.63 mm\n",
      "Month 10: Avg Rainfall = 275.18 mm\n",
      "Month 11: Avg Rainfall = 333.08 mm\n",
      "Month 12: Avg Rainfall = 342.40 mm\n"
     ]
    }
   ],
   "source": [
    "#Sentinel-1 Seasonal Composite, while using precipitation data from CHIRPS\n",
    "s1_seasonal = s1_seasonal_composite(s1_data, aoi, start, end,\n",
    "                        precip_threshold = 170, #Example value for Sumatera Selatan (in mm)\n",
    "                           rainy_month = None, #specified rainy months if CHIRPS data is not used\n",
    "                           dry_month = None, #specified dry months if CHIRPS data is not used\n",
    "                           reducer = 'median'\n",
    "                           )\n"
   ]
  },
  {
   "cell_type": "code",
   "execution_count": 26,
   "id": "bf97ad92",
   "metadata": {},
   "outputs": [
    {
     "data": {
      "text/html": [
       "\n",
       "            <style>\n",
       "                .geemap-dark {\n",
       "                    --jp-widgets-color: white;\n",
       "                    --jp-widgets-label-color: white;\n",
       "                    --jp-ui-font-color1: white;\n",
       "                    --jp-layout-color2: #454545;\n",
       "                    background-color: #383838;\n",
       "                }\n",
       "\n",
       "                .geemap-dark .jupyter-button {\n",
       "                    --jp-layout-color3: #383838;\n",
       "                }\n",
       "\n",
       "                .geemap-colab {\n",
       "                    background-color: var(--colab-primary-surface-color, white);\n",
       "                }\n",
       "\n",
       "                .geemap-colab .jupyter-button {\n",
       "                    --jp-layout-color3: var(--colab-primary-surface-color, white);\n",
       "                }\n",
       "            </style>\n",
       "            "
      ],
      "text/plain": [
       "<IPython.core.display.HTML object>"
      ]
     },
     "metadata": {},
     "output_type": "display_data"
    },
    {
     "data": {
      "application/vnd.jupyter.widget-view+json": {
       "model_id": "186d3cc6093a4442b3a3216d11d16f40",
       "version_major": 2,
       "version_minor": 0
      },
      "text/plain": [
       "Map(bottom=16977.0, center=[-3.2173020581871374, 104.16137695312501], controls=(WidgetControl(options=['positi…"
      ]
     },
     "execution_count": 26,
     "metadata": {},
     "output_type": "execute_result"
    }
   ],
   "source": [
    "m.addLayer(s1_seasonal, {}, 'S1 Seasonal Composite')\n",
    "m"
   ]
  }
 ],
 "metadata": {
  "kernelspec": {
   "display_name": "Python 3",
   "language": "python",
   "name": "python3"
  },
  "language_info": {
   "codemirror_mode": {
    "name": "ipython",
    "version": 3
   },
   "file_extension": ".py",
   "mimetype": "text/x-python",
   "name": "python",
   "nbconvert_exporter": "python",
   "pygments_lexer": "ipython3",
   "version": "3.11.9"
  }
 },
 "nbformat": 4,
 "nbformat_minor": 5
}
