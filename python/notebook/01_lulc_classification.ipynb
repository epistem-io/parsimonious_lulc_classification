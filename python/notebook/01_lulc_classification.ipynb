{
 "cells": [
  {
   "cell_type": "markdown",
   "id": "aaa59c00-4987-4e5a-9a8d-464daae2df5c",
   "metadata": {},
   "source": [
    "# F05. Generate LULC Map"
   ]
  },
  {
   "cell_type": "markdown",
   "id": "38083450-d91b-4255-958b-f97439c41005",
   "metadata": {},
   "source": [
    "## F05.00. Initialize Earth Engine"
   ]
  },
  {
   "cell_type": "code",
   "execution_count": null,
   "id": "0c28248b-700f-48ee-9d28-3d4a79ad1344",
   "metadata": {},
   "outputs": [
    {
     "data": {
      "text/html": [
       "\n",
       "            <style>\n",
       "                .geemap-dark {\n",
       "                    --jp-widgets-color: white;\n",
       "                    --jp-widgets-label-color: white;\n",
       "                    --jp-ui-font-color1: white;\n",
       "                    --jp-layout-color2: #454545;\n",
       "                    background-color: #383838;\n",
       "                }\n",
       "\n",
       "                .geemap-dark .jupyter-button {\n",
       "                    --jp-layout-color3: #383838;\n",
       "                }\n",
       "\n",
       "                .geemap-colab {\n",
       "                    background-color: var(--colab-primary-surface-color, white);\n",
       "                }\n",
       "\n",
       "                .geemap-colab .jupyter-button {\n",
       "                    --jp-layout-color3: var(--colab-primary-surface-color, white);\n",
       "                }\n",
       "            </style>\n",
       "            "
      ],
      "text/plain": [
       "<IPython.core.display.HTML object>"
      ]
     },
     "metadata": {},
     "output_type": "display_data"
    }
   ],
   "source": [
    "import numpy as np\n",
    "import matplotlib.pyplot as plt\n",
    "import pandas as pd\n",
    "import ee\n",
    "import geemap\n",
    "from gee_utils import get_aoi_from_gaul, get_landsat_composite, add_spectral_indices, split_training_validation, sample_composite"
   ]
  },
  {
   "cell_type": "code",
   "execution_count": null,
   "id": "b3323774-114b-4fdf-bc40-9eec6b4927d4",
   "metadata": {},
   "outputs": [
    {
     "data": {
      "text/html": [
       "\n",
       "            <style>\n",
       "                .geemap-dark {\n",
       "                    --jp-widgets-color: white;\n",
       "                    --jp-widgets-label-color: white;\n",
       "                    --jp-ui-font-color1: white;\n",
       "                    --jp-layout-color2: #454545;\n",
       "                    background-color: #383838;\n",
       "                }\n",
       "\n",
       "                .geemap-dark .jupyter-button {\n",
       "                    --jp-layout-color3: #383838;\n",
       "                }\n",
       "\n",
       "                .geemap-colab {\n",
       "                    background-color: var(--colab-primary-surface-color, white);\n",
       "                }\n",
       "\n",
       "                .geemap-colab .jupyter-button {\n",
       "                    --jp-layout-color3: var(--colab-primary-surface-color, white);\n",
       "                }\n",
       "            </style>\n",
       "            "
      ],
      "text/plain": [
       "<IPython.core.display.HTML object>"
      ]
     },
     "metadata": {},
     "output_type": "display_data"
    }
   ],
   "source": [
    "# Initialize Earth Engine\n",
    "ee.Authenticate()\n",
    "ee.Initialize()"
   ]
  },
  {
   "cell_type": "markdown",
   "id": "8c4d7a32",
   "metadata": {},
   "source": [
    "## User Inputs and Parameters"
   ]
  },
  {
   "cell_type": "code",
   "execution_count": 44,
   "id": "08990696-dace-4710-bfbe-c31ab8dc6e35",
   "metadata": {},
   "outputs": [
    {
     "data": {
      "text/html": [
       "\n",
       "            <style>\n",
       "                .geemap-dark {\n",
       "                    --jp-widgets-color: white;\n",
       "                    --jp-widgets-label-color: white;\n",
       "                    --jp-ui-font-color1: white;\n",
       "                    --jp-layout-color2: #454545;\n",
       "                    background-color: #383838;\n",
       "                }\n",
       "\n",
       "                .geemap-dark .jupyter-button {\n",
       "                    --jp-layout-color3: #383838;\n",
       "                }\n",
       "\n",
       "                .geemap-colab {\n",
       "                    background-color: var(--colab-primary-surface-color, white);\n",
       "                }\n",
       "\n",
       "                .geemap-colab .jupyter-button {\n",
       "                    --jp-layout-color3: var(--colab-primary-surface-color, white);\n",
       "                }\n",
       "            </style>\n",
       "            "
      ],
      "text/plain": [
       "<IPython.core.display.HTML object>"
      ]
     },
     "metadata": {},
     "output_type": "display_data"
    }
   ],
   "source": [
    "# --- Area of Interest (AOI) ---\n",
    "# Set the country and province for the AOI using GAUL admin boundaries\n",
    "COUNTRY = \"Indonesia\"\n",
    "PROVINCE = \"Sumatera Selatan\"\n",
    "\n",
    "# --- Time Period ---\n",
    "# Set the analysis year and date range\n",
    "START_DATE = '2018-01-01'\n",
    "END_DATE = '2018-12-31'\n",
    "\n",
    "# --- Landsat Settings ---\n",
    "# Choose Landsat version: 'LC08' for Landsat 8, 'LC09' for Landsat 9\n",
    "LANDSAT_VERSION = 'LC08'\n",
    "CLOUD_COVER = 50  # Maximum cloud cover percentage\n",
    "\n",
    "# --- Bands to Use ---\n",
    "# List of bands and indices to use for classification\n",
    "BANDS = [\n",
    "    'SR_B2', 'SR_B3', 'SR_B4', 'SR_B5', 'SR_B6', 'SR_B7',  # Surface reflectance bands\n",
    "    'NDVI', 'NBR', 'NDWI', 'EVI2'                          # Spectral indices\n",
    "]\n",
    "\n",
    "# --- Reference Data ---\n",
    "# Path to the ground truth points FeatureCollection (should contain 17 LULC classes)\n",
    "TRAINING_POINTS_ASSET = 'projects/ee-rg2icraf/assets/Sumsel_GT_Restore'\n",
    "\n",
    "\n",
    "# --- Visualization ---\n",
    "# Color palette for each LULC class (order must match class names)\n",
    "land_cover_palette = [\n",
    "    '#006400',  # Undisturbed dry-land forest\n",
    "    '#228B22',  # Logged-over dry-land forest\n",
    "    '#4169E1',  # Undisturbed mangrove\n",
    "    '#87CEEB',  # Logged-over mangrove\n",
    "    '#2E8B57',  # Undisturbed swamp forest\n",
    "    '#8FBC8F',  # Logged-over swamp forest\n",
    "    '#9ACD32',  # Agroforestry\n",
    "    '#32CD32',  # Plantation forest\n",
    "    '#8B4513',  # Rubber monoculture\n",
    "    '#FF8C00',  # Oil palm monoculture\n",
    "    '#DAA520',  # Other monoculture\n",
    "    '#ADFF2F',  # Grass/savanna\n",
    "    '#90EE90',  # Shrub\n",
    "    '#FFFF00',  # Cropland\n",
    "    '#FF0000',  # Settlement\n",
    "    '#D2B48C',  # Cleared land\n",
    "    '#0000FF'   # Waterbody\n",
    "]\n",
    "\n",
    "land_cover_names = [\n",
    "    'Undisturbed dry-land forest',\n",
    "    'Logged-over dry-land forest',\n",
    "    'Undisturbed mangrove',\n",
    "    'Logged-over mangrove',\n",
    "    'Undisturbed swamp forest',\n",
    "    'Logged-over swamp forest',\n",
    "    'Agroforestry',\n",
    "    'Plantation forest',\n",
    "    'Rubber monoculture',\n",
    "    'Oil palm monoculture',\n",
    "    'Other monoculture',\n",
    "    'Grass/savanna',\n",
    "    'Shrub',\n",
    "    'Cropland',\n",
    "    'Settlement',\n",
    "    'Cleared land',\n",
    "    'Waterbody'\n",
    "]"
   ]
  },
  {
   "cell_type": "markdown",
   "id": "6637a9f9-1718-4ade-8f03-83c8dcce3612",
   "metadata": {},
   "source": [
    "## F05.01. Image Acquisition & Composite Generation"
   ]
  },
  {
   "cell_type": "markdown",
   "id": "4b1f6205-fceb-455f-8496-31058ce1e5b8",
   "metadata": {},
   "source": [
    "### F05.01.A. Load Area of Interest"
   ]
  },
  {
   "cell_type": "code",
   "execution_count": 45,
   "id": "58b4fa78-3b0e-4339-aac5-c12e308127e4",
   "metadata": {},
   "outputs": [
    {
     "data": {
      "text/html": [
       "\n",
       "            <style>\n",
       "                .geemap-dark {\n",
       "                    --jp-widgets-color: white;\n",
       "                    --jp-widgets-label-color: white;\n",
       "                    --jp-ui-font-color1: white;\n",
       "                    --jp-layout-color2: #454545;\n",
       "                    background-color: #383838;\n",
       "                }\n",
       "\n",
       "                .geemap-dark .jupyter-button {\n",
       "                    --jp-layout-color3: #383838;\n",
       "                }\n",
       "\n",
       "                .geemap-colab {\n",
       "                    background-color: var(--colab-primary-surface-color, white);\n",
       "                }\n",
       "\n",
       "                .geemap-colab .jupyter-button {\n",
       "                    --jp-layout-color3: var(--colab-primary-surface-color, white);\n",
       "                }\n",
       "            </style>\n",
       "            "
      ],
      "text/plain": [
       "<IPython.core.display.HTML object>"
      ]
     },
     "metadata": {},
     "output_type": "display_data"
    },
    {
     "data": {
      "application/vnd.jupyter.widget-view+json": {
       "model_id": "d88742353d594883bd79b468654729bc",
       "version_major": 2,
       "version_minor": 0
      },
      "text/plain": [
       "Map(center=[-3.2210694545062024, 104.16355582426586], controls=(WidgetControl(options=['position', 'transparen…"
      ]
     },
     "execution_count": 45,
     "metadata": {},
     "output_type": "execute_result"
    }
   ],
   "source": [
    "\n",
    "aoi = get_aoi_from_gaul(country=COUNTRY, province=PROVINCE)\n",
    "# Visualise the AOI\n",
    "Map = geemap.Map() \n",
    "Map.addLayer(aoi, \n",
    "            {'color': 'red', 'fillColor': '00000000'}, \n",
    "            'Area of Interest (AOI)',)\n",
    "# Visualize AOI\n",
    "Map.centerObject(aoi, 8)\n",
    "Map"
   ]
  },
  {
   "cell_type": "markdown",
   "id": "c0cc9b63-aad4-4d1c-a09f-91c0fb2c74d5",
   "metadata": {},
   "source": [
    "### F05.01.B. Generate Composite"
   ]
  },
  {
   "cell_type": "code",
   "execution_count": 46,
   "id": "0f630873-21bd-41cd-baf5-766256cbdfde",
   "metadata": {},
   "outputs": [
    {
     "data": {
      "text/html": [
       "\n",
       "            <style>\n",
       "                .geemap-dark {\n",
       "                    --jp-widgets-color: white;\n",
       "                    --jp-widgets-label-color: white;\n",
       "                    --jp-ui-font-color1: white;\n",
       "                    --jp-layout-color2: #454545;\n",
       "                    background-color: #383838;\n",
       "                }\n",
       "\n",
       "                .geemap-dark .jupyter-button {\n",
       "                    --jp-layout-color3: #383838;\n",
       "                }\n",
       "\n",
       "                .geemap-colab {\n",
       "                    background-color: var(--colab-primary-surface-color, white);\n",
       "                }\n",
       "\n",
       "                .geemap-colab .jupyter-button {\n",
       "                    --jp-layout-color3: var(--colab-primary-surface-color, white);\n",
       "                }\n",
       "            </style>\n",
       "            "
      ],
      "text/plain": [
       "<IPython.core.display.HTML object>"
      ]
     },
     "metadata": {},
     "output_type": "display_data"
    },
    {
     "data": {
      "application/vnd.jupyter.widget-view+json": {
       "model_id": "737048f39f53485c813fb0e52ab7c205",
       "version_major": 2,
       "version_minor": 0
      },
      "text/plain": [
       "Map(center=[-3.2210694545062024, 104.16355582426586], controls=(WidgetControl(options=['position', 'transparen…"
      ]
     },
     "execution_count": 46,
     "metadata": {},
     "output_type": "execute_result"
    }
   ],
   "source": [
    "landsat_composite = get_landsat_composite(\n",
    "    aoi=aoi,\n",
    "    start_date=START_DATE,\n",
    "    end_date=END_DATE,\n",
    "    landsat_version=LANDSAT_VERSION,\n",
    "    cloud_cover=CLOUD_COVER\n",
    ")\n",
    "\n",
    "Map = geemap.Map()\n",
    "Map.centerObject(aoi, 8)\n",
    "\n",
    "Map.addLayer(landsat_composite, \n",
    "            {'bands': ['SR_B4', 'SR_B3', 'SR_B2'], 'min': 0, 'max': 0.3}, \n",
    "            'Composite (RGB)')\n",
    "\n",
    "# Display composite\n",
    "Map"
   ]
  },
  {
   "cell_type": "markdown",
   "id": "b72bebf7-6706-4209-ad41-cc6fa6fc8e06",
   "metadata": {},
   "source": [
    "## F05.02. Generate and Select Covariates"
   ]
  },
  {
   "cell_type": "markdown",
   "id": "07352628-67ae-4d2f-8adb-9f9fee181948",
   "metadata": {},
   "source": [
    "### F05.02.A. Calculate Spectral indices"
   ]
  },
  {
   "cell_type": "code",
   "execution_count": 47,
   "id": "09232725-5d7f-4bd1-acb6-854950ba9c1f",
   "metadata": {},
   "outputs": [
    {
     "data": {
      "text/html": [
       "\n",
       "            <style>\n",
       "                .geemap-dark {\n",
       "                    --jp-widgets-color: white;\n",
       "                    --jp-widgets-label-color: white;\n",
       "                    --jp-ui-font-color1: white;\n",
       "                    --jp-layout-color2: #454545;\n",
       "                    background-color: #383838;\n",
       "                }\n",
       "\n",
       "                .geemap-dark .jupyter-button {\n",
       "                    --jp-layout-color3: #383838;\n",
       "                }\n",
       "\n",
       "                .geemap-colab {\n",
       "                    background-color: var(--colab-primary-surface-color, white);\n",
       "                }\n",
       "\n",
       "                .geemap-colab .jupyter-button {\n",
       "                    --jp-layout-color3: var(--colab-primary-surface-color, white);\n",
       "                }\n",
       "            </style>\n",
       "            "
      ],
      "text/plain": [
       "<IPython.core.display.HTML object>"
      ]
     },
     "metadata": {},
     "output_type": "display_data"
    },
    {
     "data": {
      "application/vnd.jupyter.widget-view+json": {
       "model_id": "5e4cab378e564d269ecd5190e5968bf6",
       "version_major": 2,
       "version_minor": 0
      },
      "text/plain": [
       "Map(center=[-3.2210694545062024, 104.16355582426586], controls=(WidgetControl(options=['position', 'transparen…"
      ]
     },
     "execution_count": 47,
     "metadata": {},
     "output_type": "execute_result"
    }
   ],
   "source": [
    "# Input bands for generate NDVI and NDWI\n",
    "composite_with_indices = add_spectral_indices(landsat_composite)\n",
    "\n",
    "# Select NDVI and NDWI bands from the composite\n",
    "ndvi = composite_with_indices.select('NDVI')\n",
    "ndwi = composite_with_indices.select('NDWI')\n",
    "\n",
    "# Add NDVI layer\n",
    "ndvi_palette = ['#d73027', '#f46d43', '#fdae61', '#fee08b', '#d9ef8b', '#a6d96a', '#66bd63', '#1a9641']\n",
    "\n",
    "Map = geemap.Map()\n",
    "Map.centerObject(aoi, 8)\n",
    "\n",
    "Map.addLayer(ndvi.clip(aoi), \n",
    "            {'min': -1, 'max': 1, 'palette': ndvi_palette}, \n",
    "            'NDVI')\n",
    "\n",
    "# Add NDWI layer\n",
    "ndwi_palette = ['#8B4513', '#DAA520', '#FFFF00', '#ADFF2F', '#00FF00', '#00FFFF', '#0000FF', '#000080']\n",
    "Map.addLayer(ndwi.clip(aoi), \n",
    "            {'min': -1, 'max': 1, 'palette': ndwi_palette}, \n",
    "            'NDWI')\n",
    "# Display map\n",
    "Map"
   ]
  },
  {
   "cell_type": "markdown",
   "id": "d7ddf524-3ffd-423c-a17a-5e83f25f195d",
   "metadata": {},
   "source": [
    "## F05.03. Define LULC Categories & Reference Data Preparation"
   ]
  },
  {
   "cell_type": "markdown",
   "id": "91ede4a4-e010-4b95-91dc-93aad08b9467",
   "metadata": {},
   "source": [
    "### F05.03.A. Prepare training and validation data"
   ]
  },
  {
   "cell_type": "code",
   "execution_count": 48,
   "id": "998a9048-9db8-4bdf-8877-1b2a3e94fa94",
   "metadata": {},
   "outputs": [
    {
     "data": {
      "text/html": [
       "\n",
       "            <style>\n",
       "                .geemap-dark {\n",
       "                    --jp-widgets-color: white;\n",
       "                    --jp-widgets-label-color: white;\n",
       "                    --jp-ui-font-color1: white;\n",
       "                    --jp-layout-color2: #454545;\n",
       "                    background-color: #383838;\n",
       "                }\n",
       "\n",
       "                .geemap-dark .jupyter-button {\n",
       "                    --jp-layout-color3: #383838;\n",
       "                }\n",
       "\n",
       "                .geemap-colab {\n",
       "                    background-color: var(--colab-primary-surface-color, white);\n",
       "                }\n",
       "\n",
       "                .geemap-colab .jupyter-button {\n",
       "                    --jp-layout-color3: var(--colab-primary-surface-color, white);\n",
       "                }\n",
       "            </style>\n",
       "            "
      ],
      "text/plain": [
       "<IPython.core.display.HTML object>"
      ]
     },
     "metadata": {},
     "output_type": "display_data"
    },
    {
     "name": "stdout",
     "output_type": "stream",
     "text": [
      "Total training points: 39003\n",
      "Training points: 27182\n",
      "Validation points: 11821\n"
     ]
    },
    {
     "data": {
      "application/vnd.jupyter.widget-view+json": {
       "model_id": "bbcb80ea74fc4947bef5c6d147fa9f4d",
       "version_major": 2,
       "version_minor": 0
      },
      "text/plain": [
       "Map(center=[-3.2210694545062024, 104.16355582426586], controls=(WidgetControl(options=['position', 'transparen…"
      ]
     },
     "execution_count": 48,
     "metadata": {},
     "output_type": "execute_result"
    }
   ],
   "source": [
    "training_points = ee.FeatureCollection(TRAINING_POINTS_ASSET)\n",
    "# Check training data size\n",
    "print('Total training points:', training_points.size().getInfo())\n",
    "\n",
    "# Split points into training and validation sets\n",
    "training, validation = split_training_validation(training_points, split=0.7, seed=42)\n",
    "\n",
    "\n",
    "print('Training points:', training.size().getInfo())\n",
    "print('Validation points:', validation.size().getInfo())\n",
    "\n",
    "# Add training and validation points separately\n",
    "Map = geemap.Map()\n",
    "Map.centerObject(aoi, 8)\n",
    "\n",
    "Map.addLayer(training, \n",
    "            {'color': 'blue'}, \n",
    "            'Training Points')\n",
    "\n",
    "Map.addLayer(validation, \n",
    "            {'color': 'orange'}, \n",
    "            'Validation Points')\n",
    "\n",
    "# Display points data\n",
    "Map"
   ]
  },
  {
   "cell_type": "markdown",
   "id": "72cfb235-3513-4037-8ef7-34bdc540527b",
   "metadata": {},
   "source": [
    "## F05.04. Feature Extraction"
   ]
  },
  {
   "cell_type": "markdown",
   "id": "29cee3a7-ef1c-4a47-a48b-e477ddec6916",
   "metadata": {},
   "source": [
    "### F05.04.A. Optimized sampling"
   ]
  },
  {
   "cell_type": "code",
   "execution_count": 49,
   "id": "5041a20d-0fae-405b-a04b-1c74c36e6d58",
   "metadata": {},
   "outputs": [
    {
     "data": {
      "text/html": [
       "\n",
       "            <style>\n",
       "                .geemap-dark {\n",
       "                    --jp-widgets-color: white;\n",
       "                    --jp-widgets-label-color: white;\n",
       "                    --jp-ui-font-color1: white;\n",
       "                    --jp-layout-color2: #454545;\n",
       "                    background-color: #383838;\n",
       "                }\n",
       "\n",
       "                .geemap-dark .jupyter-button {\n",
       "                    --jp-layout-color3: #383838;\n",
       "                }\n",
       "\n",
       "                .geemap-colab {\n",
       "                    background-color: var(--colab-primary-surface-color, white);\n",
       "                }\n",
       "\n",
       "                .geemap-colab .jupyter-button {\n",
       "                    --jp-layout-color3: var(--colab-primary-surface-color, white);\n",
       "                }\n",
       "            </style>\n",
       "            "
      ],
      "text/plain": [
       "<IPython.core.display.HTML object>"
      ]
     },
     "metadata": {},
     "output_type": "display_data"
    }
   ],
   "source": [
    "# Input selected bands\n",
    "training_samples = sample_composite(composite_with_indices, training, BANDS)\n",
    "validation_samples = sample_composite(composite_with_indices, validation, BANDS)"
   ]
  },
  {
   "cell_type": "markdown",
   "id": "605503bc-8a44-4d7a-9433-a76043de52f7",
   "metadata": {},
   "source": [
    "## F05.05. Model Training & Classification"
   ]
  },
  {
   "cell_type": "markdown",
   "id": "0ef86578-1bdf-4ce9-9a60-97e2949a5a9d",
   "metadata": {},
   "source": [
    "### F05.05.A. Model training using RandomForest"
   ]
  },
  {
   "cell_type": "code",
   "execution_count": 50,
   "id": "f165a0b6-c6c8-4501-8ffc-ee67866c4c0b",
   "metadata": {},
   "outputs": [
    {
     "data": {
      "text/html": [
       "\n",
       "            <style>\n",
       "                .geemap-dark {\n",
       "                    --jp-widgets-color: white;\n",
       "                    --jp-widgets-label-color: white;\n",
       "                    --jp-ui-font-color1: white;\n",
       "                    --jp-layout-color2: #454545;\n",
       "                    background-color: #383838;\n",
       "                }\n",
       "\n",
       "                .geemap-dark .jupyter-button {\n",
       "                    --jp-layout-color3: #383838;\n",
       "                }\n",
       "\n",
       "                .geemap-colab {\n",
       "                    background-color: var(--colab-primary-surface-color, white);\n",
       "                }\n",
       "\n",
       "                .geemap-colab .jupyter-button {\n",
       "                    --jp-layout-color3: var(--colab-primary-surface-color, white);\n",
       "                }\n",
       "            </style>\n",
       "            "
      ],
      "text/plain": [
       "<IPython.core.display.HTML object>"
      ]
     },
     "metadata": {},
     "output_type": "display_data"
    }
   ],
   "source": [
    "classifier = ee.Classifier.smileRandomForest(\n",
    "    # Input hyper-parameter\n",
    "    numberOfTrees=100,  # Reduced from 200\n",
    "    variablesPerSplit=3,\n",
    "    minLeafPopulation=2,  # Increased from 1\n",
    "    bagFraction=0.7,  # Increased from 0.5\n",
    "    seed=42\n",
    ")\n",
    "\n",
    "trained = classifier.train(\n",
    "    features=training_samples,\n",
    "    classProperty='kelas',\n",
    "    inputProperties=BANDS\n",
    ")"
   ]
  },
  {
   "cell_type": "markdown",
   "id": "ba6bd520-ddc1-41f6-9ae6-efd485582956",
   "metadata": {},
   "source": [
    "### F05.05.B. Classification"
   ]
  },
  {
   "cell_type": "code",
   "execution_count": 51,
   "id": "13e587ec-40cb-4790-9923-4cc88fd7f9c6",
   "metadata": {},
   "outputs": [
    {
     "data": {
      "text/html": [
       "\n",
       "            <style>\n",
       "                .geemap-dark {\n",
       "                    --jp-widgets-color: white;\n",
       "                    --jp-widgets-label-color: white;\n",
       "                    --jp-ui-font-color1: white;\n",
       "                    --jp-layout-color2: #454545;\n",
       "                    background-color: #383838;\n",
       "                }\n",
       "\n",
       "                .geemap-dark .jupyter-button {\n",
       "                    --jp-layout-color3: #383838;\n",
       "                }\n",
       "\n",
       "                .geemap-colab {\n",
       "                    background-color: var(--colab-primary-surface-color, white);\n",
       "                }\n",
       "\n",
       "                .geemap-colab .jupyter-button {\n",
       "                    --jp-layout-color3: var(--colab-primary-surface-color, white);\n",
       "                }\n",
       "            </style>\n",
       "            "
      ],
      "text/plain": [
       "<IPython.core.display.HTML object>"
      ]
     },
     "metadata": {},
     "output_type": "display_data"
    }
   ],
   "source": [
    "# Classify with tileScale for memory optimization\n",
    "classified = (composite_with_indices.select(BANDS)\n",
    "              .classify(trained)\n",
    "              .set('system:time_start', ee.Date(START_DATE).millis()))"
   ]
  },
  {
   "cell_type": "markdown",
   "id": "60afa012-b653-44ff-a19a-bc2bbde273e5",
   "metadata": {},
   "source": [
    "### F05.05.C. Validation"
   ]
  },
  {
   "cell_type": "code",
   "execution_count": 52,
   "id": "a327fc51-f91e-4538-b2ae-c022f83c121e",
   "metadata": {},
   "outputs": [
    {
     "data": {
      "text/html": [
       "\n",
       "            <style>\n",
       "                .geemap-dark {\n",
       "                    --jp-widgets-color: white;\n",
       "                    --jp-widgets-label-color: white;\n",
       "                    --jp-ui-font-color1: white;\n",
       "                    --jp-layout-color2: #454545;\n",
       "                    background-color: #383838;\n",
       "                }\n",
       "\n",
       "                .geemap-dark .jupyter-button {\n",
       "                    --jp-layout-color3: #383838;\n",
       "                }\n",
       "\n",
       "                .geemap-colab {\n",
       "                    background-color: var(--colab-primary-surface-color, white);\n",
       "                }\n",
       "\n",
       "                .geemap-colab .jupyter-button {\n",
       "                    --jp-layout-color3: var(--colab-primary-surface-color, white);\n",
       "                }\n",
       "            </style>\n",
       "            "
      ],
      "text/plain": [
       "<IPython.core.display.HTML object>"
      ]
     },
     "metadata": {},
     "output_type": "display_data"
    },
    {
     "name": "stdout",
     "output_type": "stream",
     "text": [
      "=== ACCURACY RESULTS ===\n",
      "Overall Accuracy: 0.5912836632401665\n",
      "Kappa Coefficient: 0.5322085224807218\n"
     ]
    }
   ],
   "source": [
    "validated = validation_samples.classify(trained)\n",
    "confusion_matrix = validated.errorMatrix('kelas', 'classification')\n",
    "\n",
    "print('=== ACCURACY RESULTS ===')\n",
    "print('Overall Accuracy:', confusion_matrix.accuracy().getInfo())\n",
    "print('Kappa Coefficient:', confusion_matrix.kappa().getInfo())\n"
   ]
  },
  {
   "cell_type": "markdown",
   "id": "3f7e1c56-efa0-458d-9851-1c1e4098392d",
   "metadata": {},
   "source": [
    "### F05.05.D. Visualisation"
   ]
  },
  {
   "cell_type": "code",
   "execution_count": 40,
   "id": "49491ce0-2dcb-42f3-94e6-1f0676098bd2",
   "metadata": {},
   "outputs": [
    {
     "data": {
      "text/html": [
       "\n",
       "            <style>\n",
       "                .geemap-dark {\n",
       "                    --jp-widgets-color: white;\n",
       "                    --jp-widgets-label-color: white;\n",
       "                    --jp-ui-font-color1: white;\n",
       "                    --jp-layout-color2: #454545;\n",
       "                    background-color: #383838;\n",
       "                }\n",
       "\n",
       "                .geemap-dark .jupyter-button {\n",
       "                    --jp-layout-color3: #383838;\n",
       "                }\n",
       "\n",
       "                .geemap-colab {\n",
       "                    background-color: var(--colab-primary-surface-color, white);\n",
       "                }\n",
       "\n",
       "                .geemap-colab .jupyter-button {\n",
       "                    --jp-layout-color3: var(--colab-primary-surface-color, white);\n",
       "                }\n",
       "            </style>\n",
       "            "
      ],
      "text/plain": [
       "<IPython.core.display.HTML object>"
      ]
     },
     "metadata": {},
     "output_type": "display_data"
    },
    {
     "data": {
      "application/vnd.jupyter.widget-view+json": {
       "model_id": "fba99450e67d4927b519039054fbf2b7",
       "version_major": 2,
       "version_minor": 0
      },
      "text/plain": [
       "Map(center=[-3.2210694545062024, 104.16355582426586], controls=(WidgetControl(options=['position', 'transparen…"
      ]
     },
     "execution_count": 40,
     "metadata": {},
     "output_type": "execute_result"
    }
   ],
   "source": [
    "# Create interactive map\n",
    "Map = geemap.Map()\n",
    "Map.centerObject(aoi, 8)\n",
    "\n",
    "# Add RGB composite layer\n",
    "Map.addLayer(\n",
    "    landsat_composite,\n",
    "    {'bands': ['SR_B4', 'SR_B3', 'SR_B2'], 'min': 0, 'max': 0.3},\n",
    "    'RGB Composite'\n",
    ")\n",
    "\n",
    "# Add classified land cover layer\n",
    "Map.addLayer(\n",
    "    classified.clip(aoi),\n",
    "    {'min': 1, 'max': 17, 'palette': land_cover_palette},\n",
    "    'Land Cover Classification'\n",
    ")\n",
    "\n",
    "# Create legend \n",
    "legend_dict = dict(zip(land_cover_names, land_cover_palette))\n",
    "Map.add_legend(\n",
    "    title=\"Land Cover Classes\",\n",
    "    legend_dict=legend_dict,\n",
    "    draggable=True\n",
    ")\n",
    "\n",
    "# Add layer control and display\n",
    "Map.addLayerControl()\n",
    "Map"
   ]
  },
  {
   "cell_type": "markdown",
   "id": "ab0a6f14-bdac-4d3c-be9b-f44e5330d1f8",
   "metadata": {},
   "source": [
    "### F05.05.E. Export result"
   ]
  },
  {
   "cell_type": "code",
   "execution_count": null,
   "id": "2eeac05d-33e4-4651-a83d-a0b2de4fa97c",
   "metadata": {},
   "outputs": [
    {
     "data": {
      "text/html": [
       "\n",
       "            <style>\n",
       "                .geemap-dark {\n",
       "                    --jp-widgets-color: white;\n",
       "                    --jp-widgets-label-color: white;\n",
       "                    --jp-ui-font-color1: white;\n",
       "                    --jp-layout-color2: #454545;\n",
       "                    background-color: #383838;\n",
       "                }\n",
       "\n",
       "                .geemap-dark .jupyter-button {\n",
       "                    --jp-layout-color3: #383838;\n",
       "                }\n",
       "\n",
       "                .geemap-colab {\n",
       "                    background-color: var(--colab-primary-surface-color, white);\n",
       "                }\n",
       "\n",
       "                .geemap-colab .jupyter-button {\n",
       "                    --jp-layout-color3: var(--colab-primary-surface-color, white);\n",
       "                }\n",
       "            </style>\n",
       "            "
      ],
      "text/plain": [
       "<IPython.core.display.HTML object>"
      ]
     },
     "metadata": {},
     "output_type": "display_data"
    }
   ],
   "source": [
    "def export_to_drive():\n",
    "    \"\"\"Export classification results to Google Drive\"\"\"\n",
    "    \n",
    "    # Export land cover classification\n",
    "    year = int(START_DATE[:4])\n",
    "    task1 = ee.batch.Export.image.toDrive(\n",
    "        image=classified.clip(aoi),\n",
    "        description=f'LandCover_17Classes_Optimized_{year}',\n",
    "        folder='Epsitem_Sumsel',\n",
    "        region=aoi,\n",
    "        scale=30,\n",
    "        maxPixels=1e9,\n",
    "        crs='EPSG:4326',\n",
    "        fileFormat='GeoTIFF',\n",
    "        formatOptions={'cloudOptimized': True}\n",
    "    )"
   ]
  }
 ],
 "metadata": {
  "kernelspec": {
   "display_name": "epistem",
   "language": "python",
   "name": "python3"
  },
  "language_info": {
   "codemirror_mode": {
    "name": "ipython",
    "version": 3
   },
   "file_extension": ".py",
   "mimetype": "text/x-python",
   "name": "python",
   "nbconvert_exporter": "python",
   "pygments_lexer": "ipython3",
   "version": "3.13.2"
  }
 },
 "nbformat": 4,
 "nbformat_minor": 5
}
