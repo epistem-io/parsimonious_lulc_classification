{
 "cells": [
  {
   "cell_type": "markdown",
   "id": "aaa59c00-4987-4e5a-9a8d-464daae2df5c",
   "metadata": {},
   "source": [
    "# F05. Generate LULC Map"
   ]
  },
  {
   "cell_type": "markdown",
   "id": "38083450-d91b-4255-958b-f97439c41005",
   "metadata": {},
   "source": [
    "## F05.00. Initialize Earth Engine"
   ]
  },
  {
   "cell_type": "code",
   "execution_count": 18,
   "id": "0c28248b-700f-48ee-9d28-3d4a79ad1344",
   "metadata": {},
   "outputs": [
    {
     "data": {
      "text/html": [
       "\n",
       "            <style>\n",
       "                .geemap-dark {\n",
       "                    --jp-widgets-color: white;\n",
       "                    --jp-widgets-label-color: white;\n",
       "                    --jp-ui-font-color1: white;\n",
       "                    --jp-layout-color2: #454545;\n",
       "                    background-color: #383838;\n",
       "                }\n",
       "\n",
       "                .geemap-dark .jupyter-button {\n",
       "                    --jp-layout-color3: #383838;\n",
       "                }\n",
       "\n",
       "                .geemap-colab {\n",
       "                    background-color: var(--colab-primary-surface-color, white);\n",
       "                }\n",
       "\n",
       "                .geemap-colab .jupyter-button {\n",
       "                    --jp-layout-color3: var(--colab-primary-surface-color, white);\n",
       "                }\n",
       "            </style>\n",
       "            "
      ],
      "text/plain": [
       "<IPython.core.display.HTML object>"
      ]
     },
     "metadata": {},
     "output_type": "display_data"
    }
   ],
   "source": [
    "import numpy as np\n",
    "import matplotlib.pyplot as plt\n",
    "import pandas as pd\n",
    "\n",
    "import ee\n",
    "import geemap"
   ]
  },
  {
   "cell_type": "code",
   "execution_count": 19,
   "id": "b3323774-114b-4fdf-bc40-9eec6b4927d4",
   "metadata": {},
   "outputs": [
    {
     "data": {
      "text/html": [
       "\n",
       "            <style>\n",
       "                .geemap-dark {\n",
       "                    --jp-widgets-color: white;\n",
       "                    --jp-widgets-label-color: white;\n",
       "                    --jp-ui-font-color1: white;\n",
       "                    --jp-layout-color2: #454545;\n",
       "                    background-color: #383838;\n",
       "                }\n",
       "\n",
       "                .geemap-dark .jupyter-button {\n",
       "                    --jp-layout-color3: #383838;\n",
       "                }\n",
       "\n",
       "                .geemap-colab {\n",
       "                    background-color: var(--colab-primary-surface-color, white);\n",
       "                }\n",
       "\n",
       "                .geemap-colab .jupyter-button {\n",
       "                    --jp-layout-color3: var(--colab-primary-surface-color, white);\n",
       "                }\n",
       "            </style>\n",
       "            "
      ],
      "text/plain": [
       "<IPython.core.display.HTML object>"
      ]
     },
     "metadata": {},
     "output_type": "display_data"
    }
   ],
   "source": [
    "ee.Authenticate()\n",
    "ee.Initialize()"
   ]
  },
  {
   "cell_type": "markdown",
   "id": "6637a9f9-1718-4ade-8f03-83c8dcce3612",
   "metadata": {},
   "source": [
    "## F05.01. Image Acquisition & Composite Generation"
   ]
  },
  {
   "cell_type": "markdown",
   "id": "4b1f6205-fceb-455f-8496-31058ce1e5b8",
   "metadata": {},
   "source": [
    "### F05.01.A. Set up area and time period"
   ]
  },
  {
   "cell_type": "code",
   "execution_count": 20,
   "id": "08990696-dace-4710-bfbe-c31ab8dc6e35",
   "metadata": {},
   "outputs": [
    {
     "data": {
      "text/html": [
       "\n",
       "            <style>\n",
       "                .geemap-dark {\n",
       "                    --jp-widgets-color: white;\n",
       "                    --jp-widgets-label-color: white;\n",
       "                    --jp-ui-font-color1: white;\n",
       "                    --jp-layout-color2: #454545;\n",
       "                    background-color: #383838;\n",
       "                }\n",
       "\n",
       "                .geemap-dark .jupyter-button {\n",
       "                    --jp-layout-color3: #383838;\n",
       "                }\n",
       "\n",
       "                .geemap-colab {\n",
       "                    background-color: var(--colab-primary-surface-color, white);\n",
       "                }\n",
       "\n",
       "                .geemap-colab .jupyter-button {\n",
       "                    --jp-layout-color3: var(--colab-primary-surface-color, white);\n",
       "                }\n",
       "            </style>\n",
       "            "
      ],
      "text/plain": [
       "<IPython.core.display.HTML object>"
      ]
     },
     "metadata": {},
     "output_type": "display_data"
    }
   ],
   "source": [
    "# Input AOI file\n",
    "admin = ee.FeatureCollection(\"FAO/GAUL/2015/level1\")\n",
    "sumsel = admin.filter(ee.Filter.eq('ADM0_NAME', 'Indonesia')).filter(\n",
    "    ee.Filter.eq('ADM1_NAME', 'Sumatera Selatan')\n",
    ")\n",
    "\n",
    "# Please add script to upload spatial file\n",
    "\n",
    "# Input time period\n",
    "start_date = '2023-01-01'\n",
    "end_date = '2023-12-31'\n",
    "year = 2023"
   ]
  },
  {
   "cell_type": "code",
   "execution_count": 21,
   "id": "58b4fa78-3b0e-4339-aac5-c12e308127e4",
   "metadata": {},
   "outputs": [
    {
     "data": {
      "text/html": [
       "\n",
       "            <style>\n",
       "                .geemap-dark {\n",
       "                    --jp-widgets-color: white;\n",
       "                    --jp-widgets-label-color: white;\n",
       "                    --jp-ui-font-color1: white;\n",
       "                    --jp-layout-color2: #454545;\n",
       "                    background-color: #383838;\n",
       "                }\n",
       "\n",
       "                .geemap-dark .jupyter-button {\n",
       "                    --jp-layout-color3: #383838;\n",
       "                }\n",
       "\n",
       "                .geemap-colab {\n",
       "                    background-color: var(--colab-primary-surface-color, white);\n",
       "                }\n",
       "\n",
       "                .geemap-colab .jupyter-button {\n",
       "                    --jp-layout-color3: var(--colab-primary-surface-color, white);\n",
       "                }\n",
       "            </style>\n",
       "            "
      ],
      "text/plain": [
       "<IPython.core.display.HTML object>"
      ]
     },
     "metadata": {},
     "output_type": "display_data"
    },
    {
     "data": {
      "application/vnd.jupyter.widget-view+json": {
       "model_id": "eb9e2f5a581b44bf890aab8be98fd289",
       "version_major": 2,
       "version_minor": 0
      },
      "text/plain": [
       "Map(center=[-3.2210694545062024, 104.16355582426586], controls=(WidgetControl(options=['position', 'transparen…"
      ]
     },
     "execution_count": 21,
     "metadata": {},
     "output_type": "execute_result"
    }
   ],
   "source": [
    "# Define map var\n",
    "Map = geemap.Map() \n",
    "Map.addLayer(sumsel, \n",
    "            {'color': 'red', 'fillColor': '00000000'}, \n",
    "            'Admin Boundaries - Sumatera Selatan')\n",
    "# Use bounds() to reduce geometry complexity\n",
    "aoi = sumsel.geometry()\n",
    "\n",
    "# Visualize AOI\n",
    "Map.centerObject(aoi, 8)\n",
    "Map"
   ]
  },
  {
   "cell_type": "markdown",
   "id": "c0cc9b63-aad4-4d1c-a09f-91c0fb2c74d5",
   "metadata": {},
   "source": [
    "### F05.01.B. Data collection"
   ]
  },
  {
   "cell_type": "code",
   "execution_count": 22,
   "id": "0f630873-21bd-41cd-baf5-766256cbdfde",
   "metadata": {},
   "outputs": [
    {
     "data": {
      "text/html": [
       "\n",
       "            <style>\n",
       "                .geemap-dark {\n",
       "                    --jp-widgets-color: white;\n",
       "                    --jp-widgets-label-color: white;\n",
       "                    --jp-ui-font-color1: white;\n",
       "                    --jp-layout-color2: #454545;\n",
       "                    background-color: #383838;\n",
       "                }\n",
       "\n",
       "                .geemap-dark .jupyter-button {\n",
       "                    --jp-layout-color3: #383838;\n",
       "                }\n",
       "\n",
       "                .geemap-colab {\n",
       "                    background-color: var(--colab-primary-surface-color, white);\n",
       "                }\n",
       "\n",
       "                .geemap-colab .jupyter-button {\n",
       "                    --jp-layout-color3: var(--colab-primary-surface-color, white);\n",
       "                }\n",
       "            </style>\n",
       "            "
      ],
      "text/plain": [
       "<IPython.core.display.HTML object>"
      ]
     },
     "metadata": {},
     "output_type": "display_data"
    },
    {
     "name": "stdout",
     "output_type": "stream",
     "text": [
      "Number of images: 27\n"
     ]
    }
   ],
   "source": [
    "# Input image \n",
    "collection = (ee.ImageCollection('LANDSAT/LC09/C02/T1_L2')\n",
    "              .filterBounds(aoi)\n",
    "              .filterDate(start_date, end_date)\n",
    "              .filter(ee.Filter.lt('CLOUD_COVER', 20))  # Input value for cloud cover filter\n",
    "              .limit(50))  # Limit number of images\n",
    "\n",
    "print('Number of images:', collection.size().getInfo())"
   ]
  },
  {
   "cell_type": "markdown",
   "id": "8bf12f4b-f0bb-4b98-b406-3bd766b34e15",
   "metadata": {},
   "source": [
    "### F05.01.C. Cloud masking (simplified)"
   ]
  },
  {
   "cell_type": "code",
   "execution_count": 23,
   "id": "02e5c3b3-4d5f-47fc-ae16-e22c689951bb",
   "metadata": {},
   "outputs": [
    {
     "data": {
      "text/html": [
       "\n",
       "            <style>\n",
       "                .geemap-dark {\n",
       "                    --jp-widgets-color: white;\n",
       "                    --jp-widgets-label-color: white;\n",
       "                    --jp-ui-font-color1: white;\n",
       "                    --jp-layout-color2: #454545;\n",
       "                    background-color: #383838;\n",
       "                }\n",
       "\n",
       "                .geemap-dark .jupyter-button {\n",
       "                    --jp-layout-color3: #383838;\n",
       "                }\n",
       "\n",
       "                .geemap-colab {\n",
       "                    background-color: var(--colab-primary-surface-color, white);\n",
       "                }\n",
       "\n",
       "                .geemap-colab .jupyter-button {\n",
       "                    --jp-layout-color3: var(--colab-primary-surface-color, white);\n",
       "                }\n",
       "            </style>\n",
       "            "
      ],
      "text/plain": [
       "<IPython.core.display.HTML object>"
      ]
     },
     "metadata": {},
     "output_type": "display_data"
    }
   ],
   "source": [
    "def mask_l9sr(image):\n",
    "    \"\"\"Apply cloud masking and scaling to Landsat 9 image\"\"\"\n",
    "    cloud_shadow_bit_mask = (1 << 3)\n",
    "    clouds_bit_mask = (1 << 5)\n",
    "    qa = image.select('QA_PIXEL')\n",
    "    mask = (qa.bitwiseAnd(cloud_shadow_bit_mask).eq(0)\n",
    "            .And(qa.bitwiseAnd(clouds_bit_mask).eq(0)))\n",
    "    \n",
    "    # Apply scaling and masking in one step\n",
    "    optical_bands = image.select('SR_B.*').multiply(0.0000275).add(-0.2)\n",
    "    scaled_image = image.addBands(optical_bands, None, True)\n",
    "    \n",
    "    return (scaled_image.updateMask(mask)\n",
    "            .copyProperties(image, ['system:time_start']))"
   ]
  },
  {
   "cell_type": "markdown",
   "id": "e0118676-cd47-45af-940d-c09ffed28e10",
   "metadata": {},
   "source": [
    "### F05.01.D. Generate Composite"
   ]
  },
  {
   "cell_type": "code",
   "execution_count": 24,
   "id": "522adb28-4f5c-4686-8fbc-5665f4e7c850",
   "metadata": {},
   "outputs": [
    {
     "data": {
      "text/html": [
       "\n",
       "            <style>\n",
       "                .geemap-dark {\n",
       "                    --jp-widgets-color: white;\n",
       "                    --jp-widgets-label-color: white;\n",
       "                    --jp-ui-font-color1: white;\n",
       "                    --jp-layout-color2: #454545;\n",
       "                    background-color: #383838;\n",
       "                }\n",
       "\n",
       "                .geemap-dark .jupyter-button {\n",
       "                    --jp-layout-color3: #383838;\n",
       "                }\n",
       "\n",
       "                .geemap-colab {\n",
       "                    background-color: var(--colab-primary-surface-color, white);\n",
       "                }\n",
       "\n",
       "                .geemap-colab .jupyter-button {\n",
       "                    --jp-layout-color3: var(--colab-primary-surface-color, white);\n",
       "                }\n",
       "            </style>\n",
       "            "
      ],
      "text/plain": [
       "<IPython.core.display.HTML object>"
      ]
     },
     "metadata": {},
     "output_type": "display_data"
    },
    {
     "data": {
      "application/vnd.jupyter.widget-view+json": {
       "model_id": "c860cca5c0a6455eb4b36885256d4f76",
       "version_major": 2,
       "version_minor": 0
      },
      "text/plain": [
       "Map(center=[-3.2210694545062024, 104.16355582426586], controls=(WidgetControl(options=['position', 'transparen…"
      ]
     },
     "execution_count": 24,
     "metadata": {},
     "output_type": "execute_result"
    }
   ],
   "source": [
    "# Input bands selection to generate composite\n",
    "composite = (collection\n",
    "             .map(mask_l9sr)\n",
    "             .select(['SR_B2', 'SR_B3', 'SR_B4', 'SR_B5', 'SR_B6', 'SR_B7'])\n",
    "             .median()\n",
    "             .clip(aoi))\n",
    "\n",
    "Map = geemap.Map()\n",
    "Map.centerObject(aoi, 8)\n",
    "\n",
    "Map.addLayer(composite, \n",
    "            {'bands': ['SR_B4', 'SR_B3', 'SR_B2'], 'min': 0, 'max': 0.3}, \n",
    "            'Landsat 9 Composite (RGB)')\n",
    "\n",
    "# Display composite\n",
    "Map"
   ]
  },
  {
   "cell_type": "markdown",
   "id": "b72bebf7-6706-4209-ad41-cc6fa6fc8e06",
   "metadata": {},
   "source": [
    "## F05.02. Generate and Select Covariates"
   ]
  },
  {
   "cell_type": "markdown",
   "id": "07352628-67ae-4d2f-8adb-9f9fee181948",
   "metadata": {},
   "source": [
    "### F05.02.A. NDVI and NDWI"
   ]
  },
  {
   "cell_type": "code",
   "execution_count": 25,
   "id": "09232725-5d7f-4bd1-acb6-854950ba9c1f",
   "metadata": {},
   "outputs": [
    {
     "data": {
      "text/html": [
       "\n",
       "            <style>\n",
       "                .geemap-dark {\n",
       "                    --jp-widgets-color: white;\n",
       "                    --jp-widgets-label-color: white;\n",
       "                    --jp-ui-font-color1: white;\n",
       "                    --jp-layout-color2: #454545;\n",
       "                    background-color: #383838;\n",
       "                }\n",
       "\n",
       "                .geemap-dark .jupyter-button {\n",
       "                    --jp-layout-color3: #383838;\n",
       "                }\n",
       "\n",
       "                .geemap-colab {\n",
       "                    background-color: var(--colab-primary-surface-color, white);\n",
       "                }\n",
       "\n",
       "                .geemap-colab .jupyter-button {\n",
       "                    --jp-layout-color3: var(--colab-primary-surface-color, white);\n",
       "                }\n",
       "            </style>\n",
       "            "
      ],
      "text/plain": [
       "<IPython.core.display.HTML object>"
      ]
     },
     "metadata": {},
     "output_type": "display_data"
    },
    {
     "data": {
      "application/vnd.jupyter.widget-view+json": {
       "model_id": "baef06b13ac746ab9194c62cd8200b74",
       "version_major": 2,
       "version_minor": 0
      },
      "text/plain": [
       "Map(center=[-3.2210694545062024, 104.16355582426586], controls=(WidgetControl(options=['position', 'transparen…"
      ]
     },
     "execution_count": 25,
     "metadata": {},
     "output_type": "execute_result"
    }
   ],
   "source": [
    "# Input bands for generate NDVI and NDWI\n",
    "ndvi = composite.normalizedDifference(['SR_B5', 'SR_B4']).rename('NDVI')\n",
    "ndwi = composite.normalizedDifference(['SR_B3', 'SR_B5']).rename('NDWI')\n",
    "evi = composite.expression(\n",
    "    '2.5 * ((NIR - RED) / (NIR + 6 * RED - 7.5 * BLUE + 1))', {\n",
    "        'NIR': composite.select('SR_B5'),\n",
    "        'RED': composite.select('SR_B4'),\n",
    "        'BLUE': composite.select('SR_B2')\n",
    "    }).rename('EVI')\n",
    "\n",
    "composite_with_indices = composite.addBands([ndvi, ndwi, evi])\n",
    "\n",
    "# Add NDVI layer\n",
    "ndvi_palette = ['#d73027', '#f46d43', '#fdae61', '#fee08b', '#d9ef8b', '#a6d96a', '#66bd63', '#1a9641']\n",
    "\n",
    "Map = geemap.Map()\n",
    "Map.centerObject(aoi, 8)\n",
    "\n",
    "Map.addLayer(ndvi.clip(aoi), \n",
    "            {'min': -1, 'max': 1, 'palette': ndvi_palette}, \n",
    "            'NDVI')\n",
    "\n",
    "# Add NDWI layer\n",
    "ndwi_palette = ['#8B4513', '#DAA520', '#FFFF00', '#ADFF2F', '#00FF00', '#00FFFF', '#0000FF', '#000080']\n",
    "Map.addLayer(ndwi.clip(aoi), \n",
    "            {'min': -1, 'max': 1, 'palette': ndwi_palette}, \n",
    "            'NDWI')\n",
    "# Display map\n",
    "Map"
   ]
  },
  {
   "cell_type": "markdown",
   "id": "d7ddf524-3ffd-423c-a17a-5e83f25f195d",
   "metadata": {},
   "source": [
    "## F05.03. Define LULC Categories & Reference Data Preparation"
   ]
  },
  {
   "cell_type": "markdown",
   "id": "91ede4a4-e010-4b95-91dc-93aad08b9467",
   "metadata": {},
   "source": [
    "### F05.03.A. Prepare training data"
   ]
  },
  {
   "cell_type": "code",
   "execution_count": 26,
   "id": "998a9048-9db8-4bdf-8877-1b2a3e94fa94",
   "metadata": {},
   "outputs": [
    {
     "data": {
      "text/html": [
       "\n",
       "            <style>\n",
       "                .geemap-dark {\n",
       "                    --jp-widgets-color: white;\n",
       "                    --jp-widgets-label-color: white;\n",
       "                    --jp-ui-font-color1: white;\n",
       "                    --jp-layout-color2: #454545;\n",
       "                    background-color: #383838;\n",
       "                }\n",
       "\n",
       "                .geemap-dark .jupyter-button {\n",
       "                    --jp-layout-color3: #383838;\n",
       "                }\n",
       "\n",
       "                .geemap-colab {\n",
       "                    background-color: var(--colab-primary-surface-color, white);\n",
       "                }\n",
       "\n",
       "                .geemap-colab .jupyter-button {\n",
       "                    --jp-layout-color3: var(--colab-primary-surface-color, white);\n",
       "                }\n",
       "            </style>\n",
       "            "
      ],
      "text/plain": [
       "<IPython.core.display.HTML object>"
      ]
     },
     "metadata": {},
     "output_type": "display_data"
    },
    {
     "name": "stdout",
     "output_type": "stream",
     "text": [
      "Total training points: 39003\n",
      "Training points: 27182\n",
      "Validation points: 27364\n"
     ]
    },
    {
     "data": {
      "application/vnd.jupyter.widget-view+json": {
       "model_id": "da8a022234514b1b809af867ee5a875f",
       "version_major": 2,
       "version_minor": 0
      },
      "text/plain": [
       "Map(center=[-3.2210694545062024, 104.16355582426586], controls=(WidgetControl(options=['position', 'transparen…"
      ]
     },
     "execution_count": 26,
     "metadata": {},
     "output_type": "execute_result"
    }
   ],
   "source": [
    "# Input point shapefile\n",
    "training_points = ee.FeatureCollection('projects/ee-rg2icraf/assets/Sumsel_GT_Restore') #shapefile contained 17 LULC classes\n",
    "\n",
    "# Check training data size\n",
    "print('Total training points:', training_points.size().getInfo())\n",
    "\n",
    "# Stratified sampling to ensure balanced classes\n",
    "with_random = training_points.randomColumn('random', 42)\n",
    "training = with_random.filter(ee.Filter.lt('random', 0.7))\n",
    "validation = with_random.filter(ee.Filter.gte('random', 0.3))  # Fixed: should be 0.7\n",
    "\n",
    "print('Training points:', training.size().getInfo())\n",
    "print('Validation points:', validation.size().getInfo())\n",
    "\n",
    "# Add training and validation points separately\n",
    "Map = geemap.Map()\n",
    "Map.centerObject(aoi, 8)\n",
    "\n",
    "Map.addLayer(training, \n",
    "            {'color': 'blue'}, \n",
    "            'Training Points')\n",
    "\n",
    "Map.addLayer(validation, \n",
    "            {'color': 'orange'}, \n",
    "            'Validation Points')\n",
    "\n",
    "# Display points data\n",
    "Map"
   ]
  },
  {
   "cell_type": "markdown",
   "id": "72cfb235-3513-4037-8ef7-34bdc540527b",
   "metadata": {},
   "source": [
    "## F05.04. Feature Extraction"
   ]
  },
  {
   "cell_type": "markdown",
   "id": "29cee3a7-ef1c-4a47-a48b-e477ddec6916",
   "metadata": {},
   "source": [
    "### F05.04.A. Optimized sampling"
   ]
  },
  {
   "cell_type": "code",
   "execution_count": 27,
   "id": "5041a20d-0fae-405b-a04b-1c74c36e6d58",
   "metadata": {},
   "outputs": [
    {
     "data": {
      "text/html": [
       "\n",
       "            <style>\n",
       "                .geemap-dark {\n",
       "                    --jp-widgets-color: white;\n",
       "                    --jp-widgets-label-color: white;\n",
       "                    --jp-ui-font-color1: white;\n",
       "                    --jp-layout-color2: #454545;\n",
       "                    background-color: #383838;\n",
       "                }\n",
       "\n",
       "                .geemap-dark .jupyter-button {\n",
       "                    --jp-layout-color3: #383838;\n",
       "                }\n",
       "\n",
       "                .geemap-colab {\n",
       "                    background-color: var(--colab-primary-surface-color, white);\n",
       "                }\n",
       "\n",
       "                .geemap-colab .jupyter-button {\n",
       "                    --jp-layout-color3: var(--colab-primary-surface-color, white);\n",
       "                }\n",
       "            </style>\n",
       "            "
      ],
      "text/plain": [
       "<IPython.core.display.HTML object>"
      ]
     },
     "metadata": {},
     "output_type": "display_data"
    }
   ],
   "source": [
    "# Input selected bands\n",
    "bands = ['SR_B2', 'SR_B3', 'SR_B4', 'SR_B5', 'SR_B6', 'SR_B7', 'NDVI', 'NDWI', 'EVI']\n",
    "\n",
    "# Sample with smaller scale for faster processing\n",
    "training_samples = composite_with_indices.select(bands).sampleRegions(\n",
    "    collection=training,\n",
    "    properties=['kelas'],\n",
    "    scale=60,  # Increased from 30 to reduce processing\n",
    "    tileScale=4,  # Add tileScale for memory optimization\n",
    "    geometries=True\n",
    ")\n",
    "\n",
    "validation_samples = composite_with_indices.select(bands).sampleRegions(\n",
    "    collection=validation,\n",
    "    properties=['kelas'],\n",
    "    scale=60,\n",
    "    tileScale=4,\n",
    "    geometries=True\n",
    ")"
   ]
  },
  {
   "cell_type": "markdown",
   "id": "605503bc-8a44-4d7a-9433-a76043de52f7",
   "metadata": {},
   "source": [
    "## F05.05. Model Training & Classification"
   ]
  },
  {
   "cell_type": "markdown",
   "id": "0ef86578-1bdf-4ce9-9a60-97e2949a5a9d",
   "metadata": {},
   "source": [
    "### F05.05.A. Model training using RandomForest"
   ]
  },
  {
   "cell_type": "code",
   "execution_count": 28,
   "id": "f165a0b6-c6c8-4501-8ffc-ee67866c4c0b",
   "metadata": {},
   "outputs": [
    {
     "data": {
      "text/html": [
       "\n",
       "            <style>\n",
       "                .geemap-dark {\n",
       "                    --jp-widgets-color: white;\n",
       "                    --jp-widgets-label-color: white;\n",
       "                    --jp-ui-font-color1: white;\n",
       "                    --jp-layout-color2: #454545;\n",
       "                    background-color: #383838;\n",
       "                }\n",
       "\n",
       "                .geemap-dark .jupyter-button {\n",
       "                    --jp-layout-color3: #383838;\n",
       "                }\n",
       "\n",
       "                .geemap-colab {\n",
       "                    background-color: var(--colab-primary-surface-color, white);\n",
       "                }\n",
       "\n",
       "                .geemap-colab .jupyter-button {\n",
       "                    --jp-layout-color3: var(--colab-primary-surface-color, white);\n",
       "                }\n",
       "            </style>\n",
       "            "
      ],
      "text/plain": [
       "<IPython.core.display.HTML object>"
      ]
     },
     "metadata": {},
     "output_type": "display_data"
    }
   ],
   "source": [
    "classifier = ee.Classifier.smileRandomForest(\n",
    "    # Input hyper-parameter\n",
    "    numberOfTrees=100,  # Reduced from 200\n",
    "    variablesPerSplit=3,\n",
    "    minLeafPopulation=2,  # Increased from 1\n",
    "    bagFraction=0.7,  # Increased from 0.5\n",
    "    seed=42\n",
    ")\n",
    "\n",
    "trained = classifier.train(\n",
    "    features=training_samples,\n",
    "    classProperty='kelas',\n",
    "    inputProperties=bands\n",
    ")"
   ]
  },
  {
   "cell_type": "markdown",
   "id": "ba6bd520-ddc1-41f6-9ae6-efd485582956",
   "metadata": {},
   "source": [
    "### F05.05.B. Classification"
   ]
  },
  {
   "cell_type": "code",
   "execution_count": 29,
   "id": "13e587ec-40cb-4790-9923-4cc88fd7f9c6",
   "metadata": {},
   "outputs": [
    {
     "data": {
      "text/html": [
       "\n",
       "            <style>\n",
       "                .geemap-dark {\n",
       "                    --jp-widgets-color: white;\n",
       "                    --jp-widgets-label-color: white;\n",
       "                    --jp-ui-font-color1: white;\n",
       "                    --jp-layout-color2: #454545;\n",
       "                    background-color: #383838;\n",
       "                }\n",
       "\n",
       "                .geemap-dark .jupyter-button {\n",
       "                    --jp-layout-color3: #383838;\n",
       "                }\n",
       "\n",
       "                .geemap-colab {\n",
       "                    background-color: var(--colab-primary-surface-color, white);\n",
       "                }\n",
       "\n",
       "                .geemap-colab .jupyter-button {\n",
       "                    --jp-layout-color3: var(--colab-primary-surface-color, white);\n",
       "                }\n",
       "            </style>\n",
       "            "
      ],
      "text/plain": [
       "<IPython.core.display.HTML object>"
      ]
     },
     "metadata": {},
     "output_type": "display_data"
    }
   ],
   "source": [
    "# Classify with tileScale for memory optimization\n",
    "classified = (composite_with_indices.select(bands)\n",
    "              .classify(trained)\n",
    "              .set('system:time_start', ee.Date(start_date).millis()))"
   ]
  },
  {
   "cell_type": "markdown",
   "id": "60afa012-b653-44ff-a19a-bc2bbde273e5",
   "metadata": {},
   "source": [
    "### F05.05.C. Validation"
   ]
  },
  {
   "cell_type": "code",
   "execution_count": 30,
   "id": "a327fc51-f91e-4538-b2ae-c022f83c121e",
   "metadata": {},
   "outputs": [
    {
     "data": {
      "text/html": [
       "\n",
       "            <style>\n",
       "                .geemap-dark {\n",
       "                    --jp-widgets-color: white;\n",
       "                    --jp-widgets-label-color: white;\n",
       "                    --jp-ui-font-color1: white;\n",
       "                    --jp-layout-color2: #454545;\n",
       "                    background-color: #383838;\n",
       "                }\n",
       "\n",
       "                .geemap-dark .jupyter-button {\n",
       "                    --jp-layout-color3: #383838;\n",
       "                }\n",
       "\n",
       "                .geemap-colab {\n",
       "                    background-color: var(--colab-primary-surface-color, white);\n",
       "                }\n",
       "\n",
       "                .geemap-colab .jupyter-button {\n",
       "                    --jp-layout-color3: var(--colab-primary-surface-color, white);\n",
       "                }\n",
       "            </style>\n",
       "            "
      ],
      "text/plain": [
       "<IPython.core.display.HTML object>"
      ]
     },
     "metadata": {},
     "output_type": "display_data"
    },
    {
     "name": "stdout",
     "output_type": "stream",
     "text": [
      "=== ACCURACY RESULTS ===\n",
      "Overall Accuracy: 0.7961904761904762\n",
      "Kappa Coefficient: 0.7669751927941418\n"
     ]
    }
   ],
   "source": [
    "validated = validation_samples.classify(trained)\n",
    "confusion_matrix = validated.errorMatrix('kelas', 'classification')\n",
    "\n",
    "print('=== ACCURACY RESULTS ===')\n",
    "print('Overall Accuracy:', confusion_matrix.accuracy().getInfo())\n",
    "print('Kappa Coefficient:', confusion_matrix.kappa().getInfo())\n"
   ]
  },
  {
   "cell_type": "markdown",
   "id": "3f7e1c56-efa0-458d-9851-1c1e4098392d",
   "metadata": {},
   "source": [
    "### F05.05.D. Visualisation"
   ]
  },
  {
   "cell_type": "code",
   "execution_count": 31,
   "id": "49491ce0-2dcb-42f3-94e6-1f0676098bd2",
   "metadata": {},
   "outputs": [
    {
     "data": {
      "text/html": [
       "\n",
       "            <style>\n",
       "                .geemap-dark {\n",
       "                    --jp-widgets-color: white;\n",
       "                    --jp-widgets-label-color: white;\n",
       "                    --jp-ui-font-color1: white;\n",
       "                    --jp-layout-color2: #454545;\n",
       "                    background-color: #383838;\n",
       "                }\n",
       "\n",
       "                .geemap-dark .jupyter-button {\n",
       "                    --jp-layout-color3: #383838;\n",
       "                }\n",
       "\n",
       "                .geemap-colab {\n",
       "                    background-color: var(--colab-primary-surface-color, white);\n",
       "                }\n",
       "\n",
       "                .geemap-colab .jupyter-button {\n",
       "                    --jp-layout-color3: var(--colab-primary-surface-color, white);\n",
       "                }\n",
       "            </style>\n",
       "            "
      ],
      "text/plain": [
       "<IPython.core.display.HTML object>"
      ]
     },
     "metadata": {},
     "output_type": "display_data"
    },
    {
     "data": {
      "application/vnd.jupyter.widget-view+json": {
       "model_id": "f2e171a3efd14eacbd58b6ef5b92de6a",
       "version_major": 2,
       "version_minor": 0
      },
      "text/plain": [
       "Map(center=[-3.2210694545062024, 104.16355582426586], controls=(WidgetControl(options=['position', 'transparen…"
      ]
     },
     "execution_count": 31,
     "metadata": {},
     "output_type": "execute_result"
    }
   ],
   "source": [
    "# Define land cover color palette and class names\n",
    "land_cover_palette = [\n",
    "    '#006400',  # Undisturbed dry-land forest\n",
    "    '#228B22',  # Logged-over dry-land forest\n",
    "    '#4169E1',  # Undisturbed mangrove\n",
    "    '#87CEEB',  # Logged-over mangrove\n",
    "    '#2E8B57',  # Undisturbed swamp forest\n",
    "    '#8FBC8F',  # Logged-over swamp forest\n",
    "    '#9ACD32',  # Agroforestry\n",
    "    '#32CD32',  # Plantation forest\n",
    "    '#8B4513',  # Rubber monoculture\n",
    "    '#FF8C00',  # Oil palm monoculture\n",
    "    '#DAA520',  # Other monoculture\n",
    "    '#ADFF2F',  # Grass/savanna\n",
    "    '#90EE90',  # Shrub\n",
    "    '#FFFF00',  # Cropland\n",
    "    '#FF0000',  # Settlement\n",
    "    '#D2B48C',  # Cleared land\n",
    "    '#0000FF'   # Waterbody\n",
    "]\n",
    "\n",
    "land_cover_names = [\n",
    "    'Undisturbed dry-land forest',\n",
    "    'Logged-over dry-land forest',\n",
    "    'Undisturbed mangrove',\n",
    "    'Logged-over mangrove',\n",
    "    'Undisturbed swamp forest',\n",
    "    'Logged-over swamp forest',\n",
    "    'Agroforestry',\n",
    "    'Plantation forest',\n",
    "    'Rubber monoculture',\n",
    "    'Oil palm monoculture',\n",
    "    'Other monoculture',\n",
    "    'Grass/savanna',\n",
    "    'Shrub',\n",
    "    'Cropland',\n",
    "    'Settlement',\n",
    "    'Cleared land',\n",
    "    'Waterbody'\n",
    "]\n",
    "\n",
    "# Create interactive map\n",
    "Map = geemap.Map()\n",
    "Map.centerObject(aoi, 8)\n",
    "\n",
    "# Add RGB composite layer\n",
    "Map.addLayer(\n",
    "    composite,\n",
    "    {'bands': ['SR_B4', 'SR_B3', 'SR_B2'], 'min': 0, 'max': 0.3},\n",
    "    'RGB Composite'\n",
    ")\n",
    "\n",
    "# Add classified land cover layer\n",
    "Map.addLayer(\n",
    "    classified.clip(aoi),\n",
    "    {'min': 1, 'max': 17, 'palette': land_cover_palette},\n",
    "    'Land Cover Classification'\n",
    ")\n",
    "\n",
    "# Create legend \n",
    "legend_dict = dict(zip(land_cover_names, land_cover_palette))\n",
    "Map.add_legend(\n",
    "    title=\"Land Cover Classes\",\n",
    "    legend_dict=legend_dict,\n",
    "    draggable=True\n",
    ")\n",
    "\n",
    "# Add layer control and display\n",
    "Map.addLayerControl()\n",
    "Map"
   ]
  },
  {
   "cell_type": "markdown",
   "id": "ab0a6f14-bdac-4d3c-be9b-f44e5330d1f8",
   "metadata": {},
   "source": [
    "### F05.05.E. Export result"
   ]
  },
  {
   "cell_type": "code",
   "execution_count": 32,
   "id": "2eeac05d-33e4-4651-a83d-a0b2de4fa97c",
   "metadata": {},
   "outputs": [
    {
     "data": {
      "text/html": [
       "\n",
       "            <style>\n",
       "                .geemap-dark {\n",
       "                    --jp-widgets-color: white;\n",
       "                    --jp-widgets-label-color: white;\n",
       "                    --jp-ui-font-color1: white;\n",
       "                    --jp-layout-color2: #454545;\n",
       "                    background-color: #383838;\n",
       "                }\n",
       "\n",
       "                .geemap-dark .jupyter-button {\n",
       "                    --jp-layout-color3: #383838;\n",
       "                }\n",
       "\n",
       "                .geemap-colab {\n",
       "                    background-color: var(--colab-primary-surface-color, white);\n",
       "                }\n",
       "\n",
       "                .geemap-colab .jupyter-button {\n",
       "                    --jp-layout-color3: var(--colab-primary-surface-color, white);\n",
       "                }\n",
       "            </style>\n",
       "            "
      ],
      "text/plain": [
       "<IPython.core.display.HTML object>"
      ]
     },
     "metadata": {},
     "output_type": "display_data"
    }
   ],
   "source": [
    "def export_to_drive():\n",
    "    \"\"\"Export classification results to Google Drive\"\"\"\n",
    "    \n",
    "    # Export land cover classification\n",
    "    task1 = ee.batch.Export.image.toDrive(\n",
    "        image=classified.clip(aoi),\n",
    "        description=f'LandCover_17Classes_Optimized_{year}',\n",
    "        folder='Epsitem_Sumsel',\n",
    "        region=aoi,\n",
    "        scale=30,\n",
    "        maxPixels=1e9,\n",
    "        crs='EPSG:4326',\n",
    "        fileFormat='GeoTIFF',\n",
    "        formatOptions={'cloudOptimized': True}\n",
    "    )"
   ]
  }
 ],
 "metadata": {
  "kernelspec": {
   "display_name": "Python 3 (ipykernel)",
   "language": "python",
   "name": "python3"
  },
  "language_info": {
   "codemirror_mode": {
    "name": "ipython",
    "version": 3
   },
   "file_extension": ".py",
   "mimetype": "text/x-python",
   "name": "python",
   "nbconvert_exporter": "python",
   "pygments_lexer": "ipython3",
   "version": "3.13.5"
  }
 },
 "nbformat": 4,
 "nbformat_minor": 5
}
