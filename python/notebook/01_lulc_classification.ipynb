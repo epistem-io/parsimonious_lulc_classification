{
 "cells": [
  {
   "cell_type": "markdown",
   "id": "aaa59c00-4987-4e5a-9a8d-464daae2df5c",
   "metadata": {},
   "source": [
    "# F05. Generate LULC Map"
   ]
  },
  {
   "cell_type": "markdown",
   "id": "38083450-d91b-4255-958b-f97439c41005",
   "metadata": {},
   "source": [
    "## F05.00. Initialize Earth Engine"
   ]
  },
  {
   "cell_type": "code",
   "execution_count": 1,
   "id": "0c28248b-700f-48ee-9d28-3d4a79ad1344",
   "metadata": {},
   "outputs": [],
   "source": [
    "import numpy as np\n",
    "import matplotlib.pyplot as plt\n",
    "import pandas as pd\n",
    "import ee\n",
    "import geemap\n",
    "from gee_utils import get_aoi_from_gaul, get_landsat_composite, add_spectral_indices, split_training_validation, sample_composite, get_aoi_from_gaul_regency, get_training_points_for_aoi"
   ]
  },
  {
   "cell_type": "code",
   "execution_count": 2,
   "id": "b3323774-114b-4fdf-bc40-9eec6b4927d4",
   "metadata": {},
   "outputs": [
    {
     "data": {
      "text/html": [
       "\n",
       "            <style>\n",
       "                .geemap-dark {\n",
       "                    --jp-widgets-color: white;\n",
       "                    --jp-widgets-label-color: white;\n",
       "                    --jp-ui-font-color1: white;\n",
       "                    --jp-layout-color2: #454545;\n",
       "                    background-color: #383838;\n",
       "                }\n",
       "\n",
       "                .geemap-dark .jupyter-button {\n",
       "                    --jp-layout-color3: #383838;\n",
       "                }\n",
       "\n",
       "                .geemap-colab {\n",
       "                    background-color: var(--colab-primary-surface-color, white);\n",
       "                }\n",
       "\n",
       "                .geemap-colab .jupyter-button {\n",
       "                    --jp-layout-color3: var(--colab-primary-surface-color, white);\n",
       "                }\n",
       "            </style>\n",
       "            "
      ],
      "text/plain": [
       "<IPython.core.display.HTML object>"
      ]
     },
     "metadata": {},
     "output_type": "display_data"
    }
   ],
   "source": [
    "# Initialize Earth Engine\n",
    "ee.Authenticate()\n",
    "ee.Initialize()"
   ]
  },
  {
   "cell_type": "markdown",
   "id": "8c4d7a32",
   "metadata": {},
   "source": [
    "## User Inputs and Parameters"
   ]
  },
  {
   "cell_type": "code",
   "execution_count": 3,
   "id": "08990696-dace-4710-bfbe-c31ab8dc6e35",
   "metadata": {},
   "outputs": [
    {
     "data": {
      "text/html": [
       "\n",
       "            <style>\n",
       "                .geemap-dark {\n",
       "                    --jp-widgets-color: white;\n",
       "                    --jp-widgets-label-color: white;\n",
       "                    --jp-ui-font-color1: white;\n",
       "                    --jp-layout-color2: #454545;\n",
       "                    background-color: #383838;\n",
       "                }\n",
       "\n",
       "                .geemap-dark .jupyter-button {\n",
       "                    --jp-layout-color3: #383838;\n",
       "                }\n",
       "\n",
       "                .geemap-colab {\n",
       "                    background-color: var(--colab-primary-surface-color, white);\n",
       "                }\n",
       "\n",
       "                .geemap-colab .jupyter-button {\n",
       "                    --jp-layout-color3: var(--colab-primary-surface-color, white);\n",
       "                }\n",
       "            </style>\n",
       "            "
      ],
      "text/plain": [
       "<IPython.core.display.HTML object>"
      ]
     },
     "metadata": {},
     "output_type": "display_data"
    }
   ],
   "source": [
    "# =============================================================================\n",
    "# BANYUASIN REGENCY LULC CLASSIFICATION CONFIGURATION\n",
    "# =============================================================================\n",
    "\n",
    "# --- Area of Interest (AOI) ---\n",
    "# Set the administrative boundaries for BANYUASIN regency\n",
    "COUNTRY = \"Indonesia\"\n",
    "PROVINCE = \"Sumatera Selatan\"\n",
    "REGENCY = \"Banyuasin\"  # BANYUASIN Regency as proof of concept\n",
    "\n",
    "# --- Time Period ---\n",
    "# Set the analysis year and date range for BANYUASIN\n",
    "START_DATE = '2018-01-01'\n",
    "END_DATE = '2018-12-31'\n",
    "\n",
    "# --- Landsat Settings ---\n",
    "# Optimized settings for BANYUASIN coastal/wetland environment\n",
    "LANDSAT_VERSION = 'LC08'  # Landsat 8 for 2018 data\n",
    "CLOUD_COVER = 50  # Higher threshold due to frequent cloud cover in coastal areas\n",
    "\n",
    "# --- Bands to Use ---\n",
    "# Optimized band selection for BANYUASIN's diverse land cover types\n",
    "BANDS = [\n",
    "    'SR_B2', 'SR_B3', 'SR_B4', 'SR_B5', 'SR_B6', 'SR_B7',  # All Landsat bands\n",
    "    'NDVI', 'NBR', 'NDWI', 'EVI2'                          # Key indices for wetland/forest\n",
    "]\n",
    "\n",
    "# --- Training Points Configuration ---\n",
    "# Flexible training points system for BANYUASIN\n",
    "USER_TRAINING_POINTS_ASSET = None  # Set to custom asset path if available\n",
    "BACKUP_TRAINING_POINTS_ASSET = 'projects/ee-rg2icraf/assets/Sumsel_GT_Restore'  # Sumsel backup\n",
    "\n",
    "# Training points validation settings\n",
    "CLASS_PROPERTY = 'kelas'  # Property containing LULC class labels (1-17)\n",
    "MIN_POINTS_PER_CLASS = 10  # Minimum points per class for quality warnings\n",
    "\n",
    "# --- Visualization ---\n",
    "# Color palette for each LULC class (order must match class names)\n",
    "land_cover_palette = [\n",
    "    '#006400',  # Undisturbed dry-land forest\n",
    "    '#228B22',  # Logged-over dry-land forest\n",
    "    '#4169E1',  # Undisturbed mangrove\n",
    "    '#87CEEB',  # Logged-over mangrove\n",
    "    '#2E8B57',  # Undisturbed swamp forest\n",
    "    '#8FBC8F',  # Logged-over swamp forest\n",
    "    '#9ACD32',  # Agroforestry\n",
    "    '#32CD32',  # Plantation forest\n",
    "    '#8B4513',  # Rubber monoculture\n",
    "    '#FF8C00',  # Oil palm monoculture\n",
    "    '#DAA520',  # Other monoculture\n",
    "    '#ADFF2F',  # Grass/savanna\n",
    "    '#90EE90',  # Shrub\n",
    "    '#FFFF00',  # Cropland\n",
    "    '#FF0000',  # Settlement\n",
    "    '#D2B48C',  # Cleared land\n",
    "    '#0000FF'   # Waterbody\n",
    "]\n",
    "\n",
    "land_cover_names = [\n",
    "    'Undisturbed dry-land forest',\n",
    "    'Logged-over dry-land forest',\n",
    "    'Undisturbed mangrove',\n",
    "    'Logged-over mangrove',\n",
    "    'Undisturbed swamp forest',\n",
    "    'Logged-over swamp forest',\n",
    "    'Agroforestry',\n",
    "    'Plantation forest',\n",
    "    'Rubber monoculture',\n",
    "    'Oil palm monoculture',\n",
    "    'Other monoculture',\n",
    "    'Grass/savanna',\n",
    "    'Shrub',\n",
    "    'Cropland',\n",
    "    'Settlement',\n",
    "    'Cleared land',\n",
    "    'Waterbody'\n",
    "]"
   ]
  },
  {
   "cell_type": "markdown",
   "id": "6637a9f9-1718-4ade-8f03-83c8dcce3612",
   "metadata": {},
   "source": [
    "## F05.01. Image Acquisition & Composite Generation"
   ]
  },
  {
   "cell_type": "markdown",
   "id": "4b1f6205-fceb-455f-8496-31058ce1e5b8",
   "metadata": {},
   "source": [
    "### F05.01.A. Load Area of Interest"
   ]
  },
  {
   "cell_type": "code",
   "execution_count": 4,
   "id": "58b4fa78-3b0e-4339-aac5-c12e308127e4",
   "metadata": {},
   "outputs": [
    {
     "data": {
      "text/html": [
       "\n",
       "            <style>\n",
       "                .geemap-dark {\n",
       "                    --jp-widgets-color: white;\n",
       "                    --jp-widgets-label-color: white;\n",
       "                    --jp-ui-font-color1: white;\n",
       "                    --jp-layout-color2: #454545;\n",
       "                    background-color: #383838;\n",
       "                }\n",
       "\n",
       "                .geemap-dark .jupyter-button {\n",
       "                    --jp-layout-color3: #383838;\n",
       "                }\n",
       "\n",
       "                .geemap-colab {\n",
       "                    background-color: var(--colab-primary-surface-color, white);\n",
       "                }\n",
       "\n",
       "                .geemap-colab .jupyter-button {\n",
       "                    --jp-layout-color3: var(--colab-primary-surface-color, white);\n",
       "                }\n",
       "            </style>\n",
       "            "
      ],
      "text/plain": [
       "<IPython.core.display.HTML object>"
      ]
     },
     "metadata": {},
     "output_type": "display_data"
    },
    {
     "name": "stdout",
     "output_type": "stream",
     "text": [
      "Loading AOI for Banyuasin Regency, Sumatera Selatan, Indonesia...\n",
      "[SUCCESS] Found AOI: Banyuasin, Sumatera Selatan, Indonesia\n"
     ]
    },
    {
     "data": {
      "application/vnd.jupyter.widget-view+json": {
       "model_id": "0d5c529574a7461eaf0f203acde20d9b",
       "version_major": 2,
       "version_minor": 0
      },
      "text/plain": [
       "Map(center=[-2.50149376921854, 104.66883603663804], controls=(WidgetControl(options=['position', 'transparent_…"
      ]
     },
     "execution_count": 4,
     "metadata": {},
     "output_type": "execute_result"
    }
   ],
   "source": [
    "# Load BANYUASIN regency boundaries using the new flexible function\n",
    "print(f\"Loading AOI for {REGENCY} Regency, {PROVINCE}, {COUNTRY}...\")\n",
    "aoi = get_aoi_from_gaul_regency(country=COUNTRY, province=PROVINCE, regency=REGENCY)\n",
    "\n",
    "# Visualize BANYUASIN regency boundaries\n",
    "Map = geemap.Map() \n",
    "Map.addLayer(aoi, \n",
    "            {'color': 'red', 'fillColor': '00000000'}, \n",
    "            f'{REGENCY} Regency Boundary')\n",
    "\n",
    "# Center map on BANYUASIN with appropriate zoom level for regency\n",
    "Map.centerObject(aoi, 9)  # Zoom level 9 for regency-level view\n",
    "Map"
   ]
  },
  {
   "cell_type": "markdown",
   "id": "c0cc9b63-aad4-4d1c-a09f-91c0fb2c74d5",
   "metadata": {},
   "source": [
    "### F05.01.B. Generate Composite"
   ]
  },
  {
   "cell_type": "code",
   "execution_count": 5,
   "id": "0f630873-21bd-41cd-baf5-766256cbdfde",
   "metadata": {},
   "outputs": [
    {
     "data": {
      "text/html": [
       "\n",
       "            <style>\n",
       "                .geemap-dark {\n",
       "                    --jp-widgets-color: white;\n",
       "                    --jp-widgets-label-color: white;\n",
       "                    --jp-ui-font-color1: white;\n",
       "                    --jp-layout-color2: #454545;\n",
       "                    background-color: #383838;\n",
       "                }\n",
       "\n",
       "                .geemap-dark .jupyter-button {\n",
       "                    --jp-layout-color3: #383838;\n",
       "                }\n",
       "\n",
       "                .geemap-colab {\n",
       "                    background-color: var(--colab-primary-surface-color, white);\n",
       "                }\n",
       "\n",
       "                .geemap-colab .jupyter-button {\n",
       "                    --jp-layout-color3: var(--colab-primary-surface-color, white);\n",
       "                }\n",
       "            </style>\n",
       "            "
      ],
      "text/plain": [
       "<IPython.core.display.HTML object>"
      ]
     },
     "metadata": {},
     "output_type": "display_data"
    },
    {
     "data": {
      "application/vnd.jupyter.widget-view+json": {
       "model_id": "ca911acbefc24bf3bdfe459e3bcd30b8",
       "version_major": 2,
       "version_minor": 0
      },
      "text/plain": [
       "Map(center=[-2.5014937692185586, 104.66883603663807], controls=(WidgetControl(options=['position', 'transparen…"
      ]
     },
     "execution_count": 5,
     "metadata": {},
     "output_type": "execute_result"
    }
   ],
   "source": [
    "landsat_composite = get_landsat_composite(\n",
    "    aoi=aoi,\n",
    "    start_date=START_DATE,\n",
    "    end_date=END_DATE,\n",
    "    landsat_version=LANDSAT_VERSION,\n",
    "    cloud_cover=CLOUD_COVER\n",
    ")\n",
    "\n",
    "Map = geemap.Map()\n",
    "Map.centerObject(aoi, 8)\n",
    "\n",
    "Map.addLayer(landsat_composite, \n",
    "            {'bands': ['SR_B4', 'SR_B3', 'SR_B2'], 'min': 0, 'max': 0.3}, \n",
    "            'Composite (RGB)')\n",
    "\n",
    "# Display composite\n",
    "Map"
   ]
  },
  {
   "cell_type": "markdown",
   "id": "b72bebf7-6706-4209-ad41-cc6fa6fc8e06",
   "metadata": {},
   "source": [
    "## F05.02. Generate and Select Covariates"
   ]
  },
  {
   "cell_type": "markdown",
   "id": "07352628-67ae-4d2f-8adb-9f9fee181948",
   "metadata": {},
   "source": [
    "### F05.02.A. Calculate Spectral indices"
   ]
  },
  {
   "cell_type": "code",
   "execution_count": 6,
   "id": "09232725-5d7f-4bd1-acb6-854950ba9c1f",
   "metadata": {},
   "outputs": [
    {
     "data": {
      "text/html": [
       "\n",
       "            <style>\n",
       "                .geemap-dark {\n",
       "                    --jp-widgets-color: white;\n",
       "                    --jp-widgets-label-color: white;\n",
       "                    --jp-ui-font-color1: white;\n",
       "                    --jp-layout-color2: #454545;\n",
       "                    background-color: #383838;\n",
       "                }\n",
       "\n",
       "                .geemap-dark .jupyter-button {\n",
       "                    --jp-layout-color3: #383838;\n",
       "                }\n",
       "\n",
       "                .geemap-colab {\n",
       "                    background-color: var(--colab-primary-surface-color, white);\n",
       "                }\n",
       "\n",
       "                .geemap-colab .jupyter-button {\n",
       "                    --jp-layout-color3: var(--colab-primary-surface-color, white);\n",
       "                }\n",
       "            </style>\n",
       "            "
      ],
      "text/plain": [
       "<IPython.core.display.HTML object>"
      ]
     },
     "metadata": {},
     "output_type": "display_data"
    },
    {
     "data": {
      "application/vnd.jupyter.widget-view+json": {
       "model_id": "44ecc77d729e44a89b2ca0fcbb1b0f68",
       "version_major": 2,
       "version_minor": 0
      },
      "text/plain": [
       "Map(center=[-2.5014937692185586, 104.66883603663807], controls=(WidgetControl(options=['position', 'transparen…"
      ]
     },
     "execution_count": 6,
     "metadata": {},
     "output_type": "execute_result"
    }
   ],
   "source": [
    "# Input bands for generate NDVI and NDWI\n",
    "composite_with_indices = add_spectral_indices(landsat_composite)\n",
    "\n",
    "# Select NDVI and NDWI bands from the composite\n",
    "ndvi = composite_with_indices.select('NDVI')\n",
    "ndwi = composite_with_indices.select('NDWI')\n",
    "\n",
    "# Add NDVI layer\n",
    "ndvi_palette = ['#d73027', '#f46d43', '#fdae61', '#fee08b', '#d9ef8b', '#a6d96a', '#66bd63', '#1a9641']\n",
    "\n",
    "Map = geemap.Map()\n",
    "Map.centerObject(aoi, 8)\n",
    "\n",
    "Map.addLayer(ndvi.clip(aoi), \n",
    "            {'min': -1, 'max': 1, 'palette': ndvi_palette}, \n",
    "            'NDVI')\n",
    "\n",
    "# Add NDWI layer\n",
    "ndwi_palette = ['#8B4513', '#DAA520', '#FFFF00', '#ADFF2F', '#00FF00', '#00FFFF', '#0000FF', '#000080']\n",
    "Map.addLayer(ndwi.clip(aoi), \n",
    "            {'min': -1, 'max': 1, 'palette': ndwi_palette}, \n",
    "            'NDWI')\n",
    "# Display map\n",
    "Map"
   ]
  },
  {
   "cell_type": "markdown",
   "id": "d7ddf524-3ffd-423c-a17a-5e83f25f195d",
   "metadata": {},
   "source": [
    "## F05.03. Define LULC Categories & Reference Data Preparation"
   ]
  },
  {
   "cell_type": "markdown",
   "id": "91ede4a4-e010-4b95-91dc-93aad08b9467",
   "metadata": {},
   "source": [
    "### F05.03.A. Prepare training and validation data"
   ]
  },
  {
   "cell_type": "code",
   "execution_count": 7,
   "id": "998a9048-9db8-4bdf-8877-1b2a3e94fa94",
   "metadata": {},
   "outputs": [
    {
     "data": {
      "text/html": [
       "\n",
       "            <style>\n",
       "                .geemap-dark {\n",
       "                    --jp-widgets-color: white;\n",
       "                    --jp-widgets-label-color: white;\n",
       "                    --jp-ui-font-color1: white;\n",
       "                    --jp-layout-color2: #454545;\n",
       "                    background-color: #383838;\n",
       "                }\n",
       "\n",
       "                .geemap-dark .jupyter-button {\n",
       "                    --jp-layout-color3: #383838;\n",
       "                }\n",
       "\n",
       "                .geemap-colab {\n",
       "                    background-color: var(--colab-primary-surface-color, white);\n",
       "                }\n",
       "\n",
       "                .geemap-colab .jupyter-button {\n",
       "                    --jp-layout-color3: var(--colab-primary-surface-color, white);\n",
       "                }\n",
       "            </style>\n",
       "            "
      ],
      "text/plain": [
       "<IPython.core.display.HTML object>"
      ]
     },
     "metadata": {},
     "output_type": "display_data"
    },
    {
     "name": "stdout",
     "output_type": "stream",
     "text": [
      "\n",
      "=== LOADING TRAINING POINTS FOR Banyuasin REGENCY ===\n",
      "[INFO] Using backup training points: projects/ee-rg2icraf/assets/Sumsel_GT_Restore\n",
      "[SUCCESS] Training points validation passed:\n",
      "  - Total points: 39003\n",
      "  - Points in AOI: 15960 (40.9%)\n",
      "  - Geometry type: Point\n",
      "  - CRS: EPSG:4326\n",
      "[SUCCESS] Successfully loaded backup training points\n",
      "\n",
      "[INFO] Final training points summary:\n",
      "  - Source: backup asset: projects/ee-rg2icraf/assets/Sumsel_GT_Restore\n",
      "  - Points in AOI: 15960\n",
      "[INFO] Class Distribution Analysis:\n",
      "  - Total classes: 14\n",
      "  - Total points: 15960\n",
      "  - Average points per class: 1140.0\n",
      "  - Class 10: 28 points (0.2%)\n",
      "  - Class 11: 3529 points (22.1%)\n",
      "  - Class 12: 452 points (2.8%)\n",
      "  - Class 13: 281 points (1.8%)\n",
      "  - Class 14: 168 points (1.1%)\n",
      "  - Class 15: 81 points (0.5%)\n",
      "  - Class 16: 37 points (0.2%)\n",
      "  - Class 17: 403 points (2.5%)\n",
      "  - Class 3: 9467 points (59.3%)\n",
      "  - Class 4: 886 points (5.6%)\n",
      "  - Class 6: 210 points (1.3%)\n",
      "  - Class 7: 25 points (0.2%)\n",
      "  - Class 8: 74 points (0.5%)\n",
      "  - Class 9: 319 points (2.0%)\n",
      "\n",
      "[SUCCESS] All classes have at least 10 points.\n",
      "\n",
      "=== FINAL TRAINING/VALIDATION SPLIT FOR Banyuasin ===\n",
      "Training points: 11248\n",
      "Validation points: 4712\n"
     ]
    },
    {
     "data": {
      "application/vnd.jupyter.widget-view+json": {
       "model_id": "5b2b42b60e934a3c9ed4f74f1f6d4f0d",
       "version_major": 2,
       "version_minor": 0
      },
      "text/plain": [
       "Map(center=[-2.50149376921854, 104.66883603663804], controls=(WidgetControl(options=['position', 'transparent_…"
      ]
     },
     "execution_count": 7,
     "metadata": {},
     "output_type": "execute_result"
    }
   ],
   "source": [
    "# Load and validate training points for BANYUASIN using the new flexible system\n",
    "print(f\"\\n=== LOADING TRAINING POINTS FOR {REGENCY} REGENCY ===\")\n",
    "training_points = get_training_points_for_aoi(\n",
    "    aoi_geometry=aoi,\n",
    "    user_training_points_asset=USER_TRAINING_POINTS_ASSET,\n",
    "    backup_training_points_asset=BACKUP_TRAINING_POINTS_ASSET,\n",
    "    class_property=CLASS_PROPERTY,\n",
    "    min_points_per_class=MIN_POINTS_PER_CLASS\n",
    ")\n",
    "\n",
    "# Split points into training and validation sets\n",
    "training, validation = split_training_validation(training_points, split=0.7, seed=42)\n",
    "\n",
    "print(f'\\n=== FINAL TRAINING/VALIDATION SPLIT FOR {REGENCY} ===')\n",
    "print('Training points:', training.size().getInfo())\n",
    "print('Validation points:', validation.size().getInfo())\n",
    "\n",
    "# Visualize training and validation points for BANYUASIN\n",
    "Map = geemap.Map()\n",
    "Map.centerObject(aoi, 9)  # Regency-level zoom\n",
    "\n",
    "# Add BANYUASIN boundary for reference\n",
    "Map.addLayer(aoi, \n",
    "            {'color': 'red', 'fillColor': '00000000'}, \n",
    "            f'{REGENCY} Boundary')\n",
    "\n",
    "# Add training and validation points\n",
    "Map.addLayer(training, \n",
    "            {'color': 'blue'}, \n",
    "            'Training Points')\n",
    "\n",
    "Map.addLayer(validation, \n",
    "            {'color': 'orange'}, \n",
    "            'Validation Points')\n",
    "\n",
    "# Display points data\n",
    "Map"
   ]
  },
  {
   "cell_type": "markdown",
   "id": "72cfb235-3513-4037-8ef7-34bdc540527b",
   "metadata": {},
   "source": [
    "## F05.04. Feature Extraction"
   ]
  },
  {
   "cell_type": "markdown",
   "id": "29cee3a7-ef1c-4a47-a48b-e477ddec6916",
   "metadata": {},
   "source": [
    "### F05.04.A. Optimized sampling"
   ]
  },
  {
   "cell_type": "code",
   "execution_count": 8,
   "id": "5041a20d-0fae-405b-a04b-1c74c36e6d58",
   "metadata": {},
   "outputs": [
    {
     "data": {
      "text/html": [
       "\n",
       "            <style>\n",
       "                .geemap-dark {\n",
       "                    --jp-widgets-color: white;\n",
       "                    --jp-widgets-label-color: white;\n",
       "                    --jp-ui-font-color1: white;\n",
       "                    --jp-layout-color2: #454545;\n",
       "                    background-color: #383838;\n",
       "                }\n",
       "\n",
       "                .geemap-dark .jupyter-button {\n",
       "                    --jp-layout-color3: #383838;\n",
       "                }\n",
       "\n",
       "                .geemap-colab {\n",
       "                    background-color: var(--colab-primary-surface-color, white);\n",
       "                }\n",
       "\n",
       "                .geemap-colab .jupyter-button {\n",
       "                    --jp-layout-color3: var(--colab-primary-surface-color, white);\n",
       "                }\n",
       "            </style>\n",
       "            "
      ],
      "text/plain": [
       "<IPython.core.display.HTML object>"
      ]
     },
     "metadata": {},
     "output_type": "display_data"
    },
    {
     "name": "stdout",
     "output_type": "stream",
     "text": [
      "Sampling satellite data for Banyuasin training points...\n",
      "Sampling complete for Banyuasin regency.\n"
     ]
    }
   ],
   "source": [
    "# Sample satellite data at training and validation point locations for BANYUASIN\n",
    "print(f\"Sampling satellite data for {REGENCY} training points...\")\n",
    "training_samples = sample_composite(composite_with_indices, training, BANDS, class_property=CLASS_PROPERTY)\n",
    "validation_samples = sample_composite(composite_with_indices, validation, BANDS, class_property=CLASS_PROPERTY)\n",
    "print(f\"Sampling complete for {REGENCY} regency.\")"
   ]
  },
  {
   "cell_type": "markdown",
   "id": "605503bc-8a44-4d7a-9433-a76043de52f7",
   "metadata": {},
   "source": [
    "## F05.05. Model Training & Classification"
   ]
  },
  {
   "cell_type": "markdown",
   "id": "0ef86578-1bdf-4ce9-9a60-97e2949a5a9d",
   "metadata": {},
   "source": [
    "### F05.05.A. Model training using RandomForest"
   ]
  },
  {
   "cell_type": "code",
   "execution_count": 9,
   "id": "f165a0b6-c6c8-4501-8ffc-ee67866c4c0b",
   "metadata": {},
   "outputs": [
    {
     "data": {
      "text/html": [
       "\n",
       "            <style>\n",
       "                .geemap-dark {\n",
       "                    --jp-widgets-color: white;\n",
       "                    --jp-widgets-label-color: white;\n",
       "                    --jp-ui-font-color1: white;\n",
       "                    --jp-layout-color2: #454545;\n",
       "                    background-color: #383838;\n",
       "                }\n",
       "\n",
       "                .geemap-dark .jupyter-button {\n",
       "                    --jp-layout-color3: #383838;\n",
       "                }\n",
       "\n",
       "                .geemap-colab {\n",
       "                    background-color: var(--colab-primary-surface-color, white);\n",
       "                }\n",
       "\n",
       "                .geemap-colab .jupyter-button {\n",
       "                    --jp-layout-color3: var(--colab-primary-surface-color, white);\n",
       "                }\n",
       "            </style>\n",
       "            "
      ],
      "text/plain": [
       "<IPython.core.display.HTML object>"
      ]
     },
     "metadata": {},
     "output_type": "display_data"
    },
    {
     "name": "stdout",
     "output_type": "stream",
     "text": [
      "Training Random Forest classifier for Banyuasin regency...\n",
      "Classifier training complete for Banyuasin.\n"
     ]
    }
   ],
   "source": [
    "# Configure Random Forest classifier optimized for BANYUASIN's diverse land cover\n",
    "print(f\"Training Random Forest classifier for {REGENCY} regency...\")\n",
    "classifier = ee.Classifier.smileRandomForest(\n",
    "    # Optimized hyper-parameters for BANYUASIN's 17 LULC classes\n",
    "    numberOfTrees=100,  # Balanced performance vs speed\n",
    "    variablesPerSplit=3,  # Good for 10 input features\n",
    "    minLeafPopulation=2,  # Prevent overfitting\n",
    "    bagFraction=0.7,  # Robust sampling\n",
    "    seed=42  # Reproducible results\n",
    ")\n",
    "\n",
    "# Train the classifier using BANYUASIN training samples\n",
    "trained = classifier.train(\n",
    "    features=training_samples,\n",
    "    classProperty=CLASS_PROPERTY,\n",
    "    inputProperties=BANDS\n",
    ")\n",
    "print(f\"Classifier training complete for {REGENCY}.\")"
   ]
  },
  {
   "cell_type": "markdown",
   "id": "ba6bd520-ddc1-41f6-9ae6-efd485582956",
   "metadata": {},
   "source": [
    "### F05.05.B. Classification"
   ]
  },
  {
   "cell_type": "code",
   "execution_count": 10,
   "id": "13e587ec-40cb-4790-9923-4cc88fd7f9c6",
   "metadata": {},
   "outputs": [
    {
     "data": {
      "text/html": [
       "\n",
       "            <style>\n",
       "                .geemap-dark {\n",
       "                    --jp-widgets-color: white;\n",
       "                    --jp-widgets-label-color: white;\n",
       "                    --jp-ui-font-color1: white;\n",
       "                    --jp-layout-color2: #454545;\n",
       "                    background-color: #383838;\n",
       "                }\n",
       "\n",
       "                .geemap-dark .jupyter-button {\n",
       "                    --jp-layout-color3: #383838;\n",
       "                }\n",
       "\n",
       "                .geemap-colab {\n",
       "                    background-color: var(--colab-primary-surface-color, white);\n",
       "                }\n",
       "\n",
       "                .geemap-colab .jupyter-button {\n",
       "                    --jp-layout-color3: var(--colab-primary-surface-color, white);\n",
       "                }\n",
       "            </style>\n",
       "            "
      ],
      "text/plain": [
       "<IPython.core.display.HTML object>"
      ]
     },
     "metadata": {},
     "output_type": "display_data"
    },
    {
     "name": "stdout",
     "output_type": "stream",
     "text": [
      "Applying classification to Banyuasin regency...\n",
      "Classification complete for Banyuasin.\n"
     ]
    }
   ],
   "source": [
    "# Apply classification to BANYUASIN regency\n",
    "print(f\"Applying classification to {REGENCY} regency...\")\n",
    "classified = (composite_with_indices.select(BANDS)\n",
    "              .classify(trained)\n",
    "              .set('system:time_start', ee.Date(START_DATE).millis())\n",
    "              .set('regency', REGENCY)\n",
    "              .set('province', PROVINCE))\n",
    "print(f\"Classification complete for {REGENCY}.\")"
   ]
  },
  {
   "cell_type": "markdown",
   "id": "60afa012-b653-44ff-a19a-bc2bbde273e5",
   "metadata": {},
   "source": [
    "### F05.05.C. Validation"
   ]
  },
  {
   "cell_type": "code",
   "execution_count": 11,
   "id": "a327fc51-f91e-4538-b2ae-c022f83c121e",
   "metadata": {},
   "outputs": [
    {
     "data": {
      "text/html": [
       "\n",
       "            <style>\n",
       "                .geemap-dark {\n",
       "                    --jp-widgets-color: white;\n",
       "                    --jp-widgets-label-color: white;\n",
       "                    --jp-ui-font-color1: white;\n",
       "                    --jp-layout-color2: #454545;\n",
       "                    background-color: #383838;\n",
       "                }\n",
       "\n",
       "                .geemap-dark .jupyter-button {\n",
       "                    --jp-layout-color3: #383838;\n",
       "                }\n",
       "\n",
       "                .geemap-colab {\n",
       "                    background-color: var(--colab-primary-surface-color, white);\n",
       "                }\n",
       "\n",
       "                .geemap-colab .jupyter-button {\n",
       "                    --jp-layout-color3: var(--colab-primary-surface-color, white);\n",
       "                }\n",
       "            </style>\n",
       "            "
      ],
      "text/plain": [
       "<IPython.core.display.HTML object>"
      ]
     },
     "metadata": {},
     "output_type": "display_data"
    },
    {
     "name": "stdout",
     "output_type": "stream",
     "text": [
      "\n",
      "=== ACCURACY ASSESSMENT FOR Banyuasin REGENCY ===\n",
      "Overall Accuracy for Banyuasin: 0.8762 (87.62%)\n",
      "Kappa Coefficient for Banyuasin: 0.7831\n",
      "✓ Good accuracy achieved for Banyuasin regency classification\n"
     ]
    }
   ],
   "source": [
    "# Validate classification accuracy for BANYUASIN\n",
    "print(f\"\\n=== ACCURACY ASSESSMENT FOR {REGENCY} REGENCY ===\")\n",
    "validated = validation_samples.classify(trained)\n",
    "confusion_matrix = validated.errorMatrix(CLASS_PROPERTY, 'classification')\n",
    "\n",
    "overall_accuracy = confusion_matrix.accuracy().getInfo()\n",
    "kappa = confusion_matrix.kappa().getInfo()\n",
    "\n",
    "print(f'Overall Accuracy for {REGENCY}: {overall_accuracy:.4f} ({overall_accuracy*100:.2f}%)')\n",
    "print(f'Kappa Coefficient for {REGENCY}: {kappa:.4f}')\n",
    "\n",
    "# Interpretation for BANYUASIN results\n",
    "if overall_accuracy >= 0.7:\n",
    "    print(f'✓ Good accuracy achieved for {REGENCY} regency classification')\n",
    "elif overall_accuracy >= 0.6:\n",
    "    print(f'~ Moderate accuracy for {REGENCY} - acceptable for proof of concept')\n",
    "else:\n",
    "    print(f'! Lower accuracy for {REGENCY} - consider additional training data or parameter tuning')"
   ]
  },
  {
   "cell_type": "markdown",
   "id": "3f7e1c56-efa0-458d-9851-1c1e4098392d",
   "metadata": {},
   "source": [
    "### F05.05.D. Visualisation"
   ]
  },
  {
   "cell_type": "code",
   "execution_count": 12,
   "id": "49491ce0-2dcb-42f3-94e6-1f0676098bd2",
   "metadata": {},
   "outputs": [
    {
     "data": {
      "text/html": [
       "\n",
       "            <style>\n",
       "                .geemap-dark {\n",
       "                    --jp-widgets-color: white;\n",
       "                    --jp-widgets-label-color: white;\n",
       "                    --jp-ui-font-color1: white;\n",
       "                    --jp-layout-color2: #454545;\n",
       "                    background-color: #383838;\n",
       "                }\n",
       "\n",
       "                .geemap-dark .jupyter-button {\n",
       "                    --jp-layout-color3: #383838;\n",
       "                }\n",
       "\n",
       "                .geemap-colab {\n",
       "                    background-color: var(--colab-primary-surface-color, white);\n",
       "                }\n",
       "\n",
       "                .geemap-colab .jupyter-button {\n",
       "                    --jp-layout-color3: var(--colab-primary-surface-color, white);\n",
       "                }\n",
       "            </style>\n",
       "            "
      ],
      "text/plain": [
       "<IPython.core.display.HTML object>"
      ]
     },
     "metadata": {},
     "output_type": "display_data"
    },
    {
     "name": "stdout",
     "output_type": "stream",
     "text": [
      "Creating visualization map for Banyuasin regency...\n"
     ]
    },
    {
     "name": "stdout",
     "output_type": "stream",
     "text": [
      "Map ready for Banyuasin regency LULC classification!\n"
     ]
    },
    {
     "data": {
      "application/vnd.jupyter.widget-view+json": {
       "model_id": "e2be0984f30d46f6bd7c8e0eb891cfde",
       "version_major": 2,
       "version_minor": 0
      },
      "text/plain": [
       "Map(center=[-2.5014937692185586, 104.66883603663807], controls=(WidgetControl(options=['position', 'transparen…"
      ]
     },
     "execution_count": 12,
     "metadata": {},
     "output_type": "execute_result"
    }
   ],
   "source": [
    "# Create interactive map for BANYUASIN regency LULC classification results\n",
    "print(f\"Creating visualization map for {REGENCY} regency...\")\n",
    "Map = geemap.Map()\n",
    "Map.centerObject(aoi, 9)  # Regency-level zoom\n",
    "\n",
    "# Add BANYUASIN regency boundary\n",
    "Map.addLayer(aoi, \n",
    "            {'color': 'red', 'fillColor': '00000000'}, \n",
    "            f'{REGENCY} Regency Boundary')\n",
    "\n",
    "# Add RGB composite layer for BANYUASIN\n",
    "Map.addLayer(\n",
    "    landsat_composite,\n",
    "    {'bands': ['SR_B4', 'SR_B3', 'SR_B2'], 'min': 0, 'max': 0.3},\n",
    "    f'{REGENCY} RGB Composite (2018)'\n",
    ")\n",
    "\n",
    "# Add BANYUASIN land cover classification\n",
    "Map.addLayer(\n",
    "    classified.clip(aoi),\n",
    "    {'min': 1, 'max': 17, 'palette': land_cover_palette},\n",
    "    f'{REGENCY} Land Cover Classification (2018)'\n",
    ")\n",
    "\n",
    "# Create legend for BANYUASIN LULC classes\n",
    "legend_dict = dict(zip(land_cover_names, land_cover_palette))\n",
    "Map.add_legend(\n",
    "    title=f\"{REGENCY} Land Cover Classes (2018)\",\n",
    "    legend_dict=legend_dict,\n",
    "    draggable=True\n",
    ")\n",
    "\n",
    "# Add layer control and display\n",
    "Map.addLayerControl()\n",
    "print(f\"Map ready for {REGENCY} regency LULC classification!\")\n",
    "Map"
   ]
  },
  {
   "cell_type": "markdown",
   "id": "ab0a6f14-bdac-4d3c-be9b-f44e5330d1f8",
   "metadata": {},
   "source": [
    "### F05.05.E. Export result"
   ]
  },
  {
   "cell_type": "code",
   "execution_count": null,
   "id": "2eeac05d-33e4-4651-a83d-a0b2de4fa97c",
   "metadata": {},
   "outputs": [
    {
     "data": {
      "text/html": [
       "\n",
       "            <style>\n",
       "                .geemap-dark {\n",
       "                    --jp-widgets-color: white;\n",
       "                    --jp-widgets-label-color: white;\n",
       "                    --jp-ui-font-color1: white;\n",
       "                    --jp-layout-color2: #454545;\n",
       "                    background-color: #383838;\n",
       "                }\n",
       "\n",
       "                .geemap-dark .jupyter-button {\n",
       "                    --jp-layout-color3: #383838;\n",
       "                }\n",
       "\n",
       "                .geemap-colab {\n",
       "                    background-color: var(--colab-primary-surface-color, white);\n",
       "                }\n",
       "\n",
       "                .geemap-colab .jupyter-button {\n",
       "                    --jp-layout-color3: var(--colab-primary-surface-color, white);\n",
       "                }\n",
       "            </style>\n",
       "            "
      ],
      "text/plain": [
       "<IPython.core.display.HTML object>"
      ]
     },
     "metadata": {},
     "output_type": "display_data"
    }
   ],
   "source": [
    "def export_banyuasin_results():\n",
    "    \"\"\"Export BANYUASIN regency LULC classification results to Google Drive\"\"\"\n",
    "    \n",
    "    year = int(START_DATE[:4])\n",
    "    \n",
    "    # Export BANYUASIN land cover classification\n",
    "    print(f\"Preparing export for {REGENCY} regency LULC classification...\")\n",
    "    task = ee.batch.Export.image.toDrive(\n",
    "        image=classified.clip(aoi),\n",
    "        description=f'LULC_{REGENCY}_Regency_{year}_17Classes',\n",
    "        folder=f'LULC_Classifications_{PROVINCE}',\n",
    "        region=aoi,\n",
    "        scale=30,  # 30m Landsat resolution\n",
    "        maxPixels=1e9,\n",
    "        crs='EPSG:4326',\n",
    "        fileFormat='GeoTIFF',\n",
    "        formatOptions={'cloudOptimized': True}\n",
    "    )\n",
    "    \n",
    "    print(f\"Export task created for {REGENCY} regency:\")\n",
    "    print(f\"  - File: LULC_{REGENCY}_Regency_{year}_17Classes.tif\")\n",
    "    print(f\"  - Folder: LULC_Classifications_{PROVINCE}\")\n",
    "    print(f\"  - Resolution: 30m\")\n",
    "    print(f\"  - Classes: 17 LULC types\")\n",
    "    print(\"\\nTo start export, run: task.start()\")\n",
    "    \n",
    "    return task\n",
    "\n",
    "# Uncomment the line below to create the export task\n",
    "# export_task = export_banyuasin_results()"
   ]
  },
  {
   "cell_type": "markdown",
   "id": "summary-banyuasin",
   "metadata": {},
   "source": [
    "## 🎯 BANYUASIN Regency LULC Classification Summary\n",
    "\n",
    "### ✅ **Successfully Completed:**\n",
    "- **Area of Interest**: BANYUASIN Regency, Sumatera Selatan, Indonesia\n",
    "- **Classification System**: 17 LULC classes using Random Forest\n",
    "- **Data Source**: Landsat 8 (2018) with spectral indices\n",
    "- **Training Points**: Automatically clipped from Sumsel backup asset\n",
    "- **Validation**: Comprehensive accuracy assessment\n",
    "\n",
    "### 🔧 **New Flexible Features Implemented:**\n",
    "1. **Regency-level AOI**: Easy switching between regencies\n",
    "2. **Flexible Training Points**: Automatic fallback system\n",
    "3. **Validation & Analysis**: Comprehensive quality checks\n",
    "4. **User-friendly Interface**: Clear progress messages\n",
    "\n",
    "### 🚀 **To Use for Different Regencies:**\n",
    "Simply change the `REGENCY` parameter:\n",
    "```python\n",
    "REGENCY = \"Ogan Komering Ilir\"  # or any other regency\n",
    "```\n",
    "\n",
    "### 📊 **Expected Results:**\n",
    "- Land cover map for BANYUASIN regency\n",
    "- Accuracy assessment metrics\n",
    "- Interactive visualization with legend\n",
    "- Export-ready GeoTIFF file\n",
    "\n",
    "**The flexible training points system is now fully operational!** 🎉"
   ]
  }
 ],
 "metadata": {
  "kernelspec": {
   "display_name": "epistem",
   "language": "python",
   "name": "python3"
  },
  "language_info": {
   "codemirror_mode": {
    "name": "ipython",
    "version": 3
   },
   "file_extension": ".py",
   "mimetype": "text/x-python",
   "name": "python",
   "nbconvert_exporter": "python",
   "pygments_lexer": "ipython3",
   "version": "3.13.2"
  }
 },
 "nbformat": 4,
 "nbformat_minor": 5
}
